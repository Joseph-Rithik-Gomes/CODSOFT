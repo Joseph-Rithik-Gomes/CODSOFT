{
  "nbformat": 4,
  "nbformat_minor": 0,
  "metadata": {
    "colab": {
      "provenance": []
    },
    "kernelspec": {
      "name": "python3",
      "display_name": "Python 3"
    },
    "language_info": {
      "name": "python"
    }
  },
  "cells": [
    {
      "cell_type": "code",
      "execution_count": 174,
      "metadata": {
        "id": "vbYO_yR3o09a"
      },
      "outputs": [],
      "source": [
        "#importing libraries\n",
        "import numpy as np\n",
        "import pandas as pd\n",
        "from sklearn.preprocessing import LabelEncoder\n",
        "from sklearn.model_selection import train_test_split\n",
        "from sklearn.feature_extraction.text import TfidfVectorizer\n",
        "from sklearn.linear_model import LogisticRegression\n",
        "from sklearn.naive_bayes import MultinomialNB\n",
        "from sklearn.metrics import accuracy_score"
      ]
    },
    {
      "cell_type": "code",
      "source": [
        "data=pd.read_csv(\"/content/spam.csv\", encoding='latin-1')"
      ],
      "metadata": {
        "id": "5fizbvVSpcJX"
      },
      "execution_count": 175,
      "outputs": []
    },
    {
      "cell_type": "code",
      "source": [
        "data.head()"
      ],
      "metadata": {
        "colab": {
          "base_uri": "https://localhost:8080/",
          "height": 206
        },
        "id": "1DYVMxTXpive",
        "outputId": "5c27fd9b-82b7-4065-f32b-38cf5640caec"
      },
      "execution_count": 176,
      "outputs": [
        {
          "output_type": "execute_result",
          "data": {
            "text/plain": [
              "     v1                                                 v2 Unnamed: 2  \\\n",
              "0   ham  Go until jurong point, crazy.. Available only ...        NaN   \n",
              "1   ham                      Ok lar... Joking wif u oni...        NaN   \n",
              "2  spam  Free entry in 2 a wkly comp to win FA Cup fina...        NaN   \n",
              "3   ham  U dun say so early hor... U c already then say...        NaN   \n",
              "4   ham  Nah I don't think he goes to usf, he lives aro...        NaN   \n",
              "\n",
              "  Unnamed: 3 Unnamed: 4  \n",
              "0        NaN        NaN  \n",
              "1        NaN        NaN  \n",
              "2        NaN        NaN  \n",
              "3        NaN        NaN  \n",
              "4        NaN        NaN  "
            ],
            "text/html": [
              "\n",
              "  <div id=\"df-c7365790-fa9c-4653-8df9-e6bf443a1775\" class=\"colab-df-container\">\n",
              "    <div>\n",
              "<style scoped>\n",
              "    .dataframe tbody tr th:only-of-type {\n",
              "        vertical-align: middle;\n",
              "    }\n",
              "\n",
              "    .dataframe tbody tr th {\n",
              "        vertical-align: top;\n",
              "    }\n",
              "\n",
              "    .dataframe thead th {\n",
              "        text-align: right;\n",
              "    }\n",
              "</style>\n",
              "<table border=\"1\" class=\"dataframe\">\n",
              "  <thead>\n",
              "    <tr style=\"text-align: right;\">\n",
              "      <th></th>\n",
              "      <th>v1</th>\n",
              "      <th>v2</th>\n",
              "      <th>Unnamed: 2</th>\n",
              "      <th>Unnamed: 3</th>\n",
              "      <th>Unnamed: 4</th>\n",
              "    </tr>\n",
              "  </thead>\n",
              "  <tbody>\n",
              "    <tr>\n",
              "      <th>0</th>\n",
              "      <td>ham</td>\n",
              "      <td>Go until jurong point, crazy.. Available only ...</td>\n",
              "      <td>NaN</td>\n",
              "      <td>NaN</td>\n",
              "      <td>NaN</td>\n",
              "    </tr>\n",
              "    <tr>\n",
              "      <th>1</th>\n",
              "      <td>ham</td>\n",
              "      <td>Ok lar... Joking wif u oni...</td>\n",
              "      <td>NaN</td>\n",
              "      <td>NaN</td>\n",
              "      <td>NaN</td>\n",
              "    </tr>\n",
              "    <tr>\n",
              "      <th>2</th>\n",
              "      <td>spam</td>\n",
              "      <td>Free entry in 2 a wkly comp to win FA Cup fina...</td>\n",
              "      <td>NaN</td>\n",
              "      <td>NaN</td>\n",
              "      <td>NaN</td>\n",
              "    </tr>\n",
              "    <tr>\n",
              "      <th>3</th>\n",
              "      <td>ham</td>\n",
              "      <td>U dun say so early hor... U c already then say...</td>\n",
              "      <td>NaN</td>\n",
              "      <td>NaN</td>\n",
              "      <td>NaN</td>\n",
              "    </tr>\n",
              "    <tr>\n",
              "      <th>4</th>\n",
              "      <td>ham</td>\n",
              "      <td>Nah I don't think he goes to usf, he lives aro...</td>\n",
              "      <td>NaN</td>\n",
              "      <td>NaN</td>\n",
              "      <td>NaN</td>\n",
              "    </tr>\n",
              "  </tbody>\n",
              "</table>\n",
              "</div>\n",
              "    <div class=\"colab-df-buttons\">\n",
              "\n",
              "  <div class=\"colab-df-container\">\n",
              "    <button class=\"colab-df-convert\" onclick=\"convertToInteractive('df-c7365790-fa9c-4653-8df9-e6bf443a1775')\"\n",
              "            title=\"Convert this dataframe to an interactive table.\"\n",
              "            style=\"display:none;\">\n",
              "\n",
              "  <svg xmlns=\"http://www.w3.org/2000/svg\" height=\"24px\" viewBox=\"0 -960 960 960\">\n",
              "    <path d=\"M120-120v-720h720v720H120Zm60-500h600v-160H180v160Zm220 220h160v-160H400v160Zm0 220h160v-160H400v160ZM180-400h160v-160H180v160Zm440 0h160v-160H620v160ZM180-180h160v-160H180v160Zm440 0h160v-160H620v160Z\"/>\n",
              "  </svg>\n",
              "    </button>\n",
              "\n",
              "  <style>\n",
              "    .colab-df-container {\n",
              "      display:flex;\n",
              "      gap: 12px;\n",
              "    }\n",
              "\n",
              "    .colab-df-convert {\n",
              "      background-color: #E8F0FE;\n",
              "      border: none;\n",
              "      border-radius: 50%;\n",
              "      cursor: pointer;\n",
              "      display: none;\n",
              "      fill: #1967D2;\n",
              "      height: 32px;\n",
              "      padding: 0 0 0 0;\n",
              "      width: 32px;\n",
              "    }\n",
              "\n",
              "    .colab-df-convert:hover {\n",
              "      background-color: #E2EBFA;\n",
              "      box-shadow: 0px 1px 2px rgba(60, 64, 67, 0.3), 0px 1px 3px 1px rgba(60, 64, 67, 0.15);\n",
              "      fill: #174EA6;\n",
              "    }\n",
              "\n",
              "    .colab-df-buttons div {\n",
              "      margin-bottom: 4px;\n",
              "    }\n",
              "\n",
              "    [theme=dark] .colab-df-convert {\n",
              "      background-color: #3B4455;\n",
              "      fill: #D2E3FC;\n",
              "    }\n",
              "\n",
              "    [theme=dark] .colab-df-convert:hover {\n",
              "      background-color: #434B5C;\n",
              "      box-shadow: 0px 1px 3px 1px rgba(0, 0, 0, 0.15);\n",
              "      filter: drop-shadow(0px 1px 2px rgba(0, 0, 0, 0.3));\n",
              "      fill: #FFFFFF;\n",
              "    }\n",
              "  </style>\n",
              "\n",
              "    <script>\n",
              "      const buttonEl =\n",
              "        document.querySelector('#df-c7365790-fa9c-4653-8df9-e6bf443a1775 button.colab-df-convert');\n",
              "      buttonEl.style.display =\n",
              "        google.colab.kernel.accessAllowed ? 'block' : 'none';\n",
              "\n",
              "      async function convertToInteractive(key) {\n",
              "        const element = document.querySelector('#df-c7365790-fa9c-4653-8df9-e6bf443a1775');\n",
              "        const dataTable =\n",
              "          await google.colab.kernel.invokeFunction('convertToInteractive',\n",
              "                                                    [key], {});\n",
              "        if (!dataTable) return;\n",
              "\n",
              "        const docLinkHtml = 'Like what you see? Visit the ' +\n",
              "          '<a target=\"_blank\" href=https://colab.research.google.com/notebooks/data_table.ipynb>data table notebook</a>'\n",
              "          + ' to learn more about interactive tables.';\n",
              "        element.innerHTML = '';\n",
              "        dataTable['output_type'] = 'display_data';\n",
              "        await google.colab.output.renderOutput(dataTable, element);\n",
              "        const docLink = document.createElement('div');\n",
              "        docLink.innerHTML = docLinkHtml;\n",
              "        element.appendChild(docLink);\n",
              "      }\n",
              "    </script>\n",
              "  </div>\n",
              "\n",
              "\n",
              "<div id=\"df-d65994c4-c2d8-4cfc-83c1-cb11a51ed614\">\n",
              "  <button class=\"colab-df-quickchart\" onclick=\"quickchart('df-d65994c4-c2d8-4cfc-83c1-cb11a51ed614')\"\n",
              "            title=\"Suggest charts\"\n",
              "            style=\"display:none;\">\n",
              "\n",
              "<svg xmlns=\"http://www.w3.org/2000/svg\" height=\"24px\"viewBox=\"0 0 24 24\"\n",
              "     width=\"24px\">\n",
              "    <g>\n",
              "        <path d=\"M19 3H5c-1.1 0-2 .9-2 2v14c0 1.1.9 2 2 2h14c1.1 0 2-.9 2-2V5c0-1.1-.9-2-2-2zM9 17H7v-7h2v7zm4 0h-2V7h2v10zm4 0h-2v-4h2v4z\"/>\n",
              "    </g>\n",
              "</svg>\n",
              "  </button>\n",
              "\n",
              "<style>\n",
              "  .colab-df-quickchart {\n",
              "      --bg-color: #E8F0FE;\n",
              "      --fill-color: #1967D2;\n",
              "      --hover-bg-color: #E2EBFA;\n",
              "      --hover-fill-color: #174EA6;\n",
              "      --disabled-fill-color: #AAA;\n",
              "      --disabled-bg-color: #DDD;\n",
              "  }\n",
              "\n",
              "  [theme=dark] .colab-df-quickchart {\n",
              "      --bg-color: #3B4455;\n",
              "      --fill-color: #D2E3FC;\n",
              "      --hover-bg-color: #434B5C;\n",
              "      --hover-fill-color: #FFFFFF;\n",
              "      --disabled-bg-color: #3B4455;\n",
              "      --disabled-fill-color: #666;\n",
              "  }\n",
              "\n",
              "  .colab-df-quickchart {\n",
              "    background-color: var(--bg-color);\n",
              "    border: none;\n",
              "    border-radius: 50%;\n",
              "    cursor: pointer;\n",
              "    display: none;\n",
              "    fill: var(--fill-color);\n",
              "    height: 32px;\n",
              "    padding: 0;\n",
              "    width: 32px;\n",
              "  }\n",
              "\n",
              "  .colab-df-quickchart:hover {\n",
              "    background-color: var(--hover-bg-color);\n",
              "    box-shadow: 0 1px 2px rgba(60, 64, 67, 0.3), 0 1px 3px 1px rgba(60, 64, 67, 0.15);\n",
              "    fill: var(--button-hover-fill-color);\n",
              "  }\n",
              "\n",
              "  .colab-df-quickchart-complete:disabled,\n",
              "  .colab-df-quickchart-complete:disabled:hover {\n",
              "    background-color: var(--disabled-bg-color);\n",
              "    fill: var(--disabled-fill-color);\n",
              "    box-shadow: none;\n",
              "  }\n",
              "\n",
              "  .colab-df-spinner {\n",
              "    border: 2px solid var(--fill-color);\n",
              "    border-color: transparent;\n",
              "    border-bottom-color: var(--fill-color);\n",
              "    animation:\n",
              "      spin 1s steps(1) infinite;\n",
              "  }\n",
              "\n",
              "  @keyframes spin {\n",
              "    0% {\n",
              "      border-color: transparent;\n",
              "      border-bottom-color: var(--fill-color);\n",
              "      border-left-color: var(--fill-color);\n",
              "    }\n",
              "    20% {\n",
              "      border-color: transparent;\n",
              "      border-left-color: var(--fill-color);\n",
              "      border-top-color: var(--fill-color);\n",
              "    }\n",
              "    30% {\n",
              "      border-color: transparent;\n",
              "      border-left-color: var(--fill-color);\n",
              "      border-top-color: var(--fill-color);\n",
              "      border-right-color: var(--fill-color);\n",
              "    }\n",
              "    40% {\n",
              "      border-color: transparent;\n",
              "      border-right-color: var(--fill-color);\n",
              "      border-top-color: var(--fill-color);\n",
              "    }\n",
              "    60% {\n",
              "      border-color: transparent;\n",
              "      border-right-color: var(--fill-color);\n",
              "    }\n",
              "    80% {\n",
              "      border-color: transparent;\n",
              "      border-right-color: var(--fill-color);\n",
              "      border-bottom-color: var(--fill-color);\n",
              "    }\n",
              "    90% {\n",
              "      border-color: transparent;\n",
              "      border-bottom-color: var(--fill-color);\n",
              "    }\n",
              "  }\n",
              "</style>\n",
              "\n",
              "  <script>\n",
              "    async function quickchart(key) {\n",
              "      const quickchartButtonEl =\n",
              "        document.querySelector('#' + key + ' button');\n",
              "      quickchartButtonEl.disabled = true;  // To prevent multiple clicks.\n",
              "      quickchartButtonEl.classList.add('colab-df-spinner');\n",
              "      try {\n",
              "        const charts = await google.colab.kernel.invokeFunction(\n",
              "            'suggestCharts', [key], {});\n",
              "      } catch (error) {\n",
              "        console.error('Error during call to suggestCharts:', error);\n",
              "      }\n",
              "      quickchartButtonEl.classList.remove('colab-df-spinner');\n",
              "      quickchartButtonEl.classList.add('colab-df-quickchart-complete');\n",
              "    }\n",
              "    (() => {\n",
              "      let quickchartButtonEl =\n",
              "        document.querySelector('#df-d65994c4-c2d8-4cfc-83c1-cb11a51ed614 button');\n",
              "      quickchartButtonEl.style.display =\n",
              "        google.colab.kernel.accessAllowed ? 'block' : 'none';\n",
              "    })();\n",
              "  </script>\n",
              "</div>\n",
              "\n",
              "    </div>\n",
              "  </div>\n"
            ],
            "application/vnd.google.colaboratory.intrinsic+json": {
              "type": "dataframe",
              "variable_name": "data",
              "summary": "{\n  \"name\": \"data\",\n  \"rows\": 5572,\n  \"fields\": [\n    {\n      \"column\": \"v1\",\n      \"properties\": {\n        \"dtype\": \"category\",\n        \"num_unique_values\": 2,\n        \"samples\": [\n          \"spam\",\n          \"ham\"\n        ],\n        \"semantic_type\": \"\",\n        \"description\": \"\"\n      }\n    },\n    {\n      \"column\": \"v2\",\n      \"properties\": {\n        \"dtype\": \"string\",\n        \"num_unique_values\": 5169,\n        \"samples\": [\n          \"Did u download the fring app?\",\n          \"Pass dis to all ur contacts n see wat u get! Red;i'm in luv wid u. Blue;u put a smile on my face. Purple;u r realy hot. Pink;u r so swt. Orange;i thnk i lyk u. Green;i realy wana go out wid u. Yelow;i wnt u bck. Black;i'm jealous of u. Brown;i miss you Nw plz giv me one color\"\n        ],\n        \"semantic_type\": \"\",\n        \"description\": \"\"\n      }\n    },\n    {\n      \"column\": \"Unnamed: 2\",\n      \"properties\": {\n        \"dtype\": \"category\",\n        \"num_unique_values\": 43,\n        \"samples\": [\n          \" GOD said\",\n          \" SHE SHUDVETOLD U. DID URGRAN KNOW?NEWAY\"\n        ],\n        \"semantic_type\": \"\",\n        \"description\": \"\"\n      }\n    },\n    {\n      \"column\": \"Unnamed: 3\",\n      \"properties\": {\n        \"dtype\": \"category\",\n        \"num_unique_values\": 10,\n        \"samples\": [\n          \" \\\\\\\"OH No! COMPETITION\\\\\\\". Who knew\",\n          \" why to miss them\"\n        ],\n        \"semantic_type\": \"\",\n        \"description\": \"\"\n      }\n    },\n    {\n      \"column\": \"Unnamed: 4\",\n      \"properties\": {\n        \"dtype\": \"category\",\n        \"num_unique_values\": 5,\n        \"samples\": [\n          \"GNT:-)\\\"\",\n          \" one day these two will become FREINDS FOREVER!\\\"\"\n        ],\n        \"semantic_type\": \"\",\n        \"description\": \"\"\n      }\n    }\n  ]\n}"
            }
          },
          "metadata": {},
          "execution_count": 176
        }
      ]
    },
    {
      "cell_type": "code",
      "source": [
        "data.isna().sum()"
      ],
      "metadata": {
        "colab": {
          "base_uri": "https://localhost:8080/",
          "height": 241
        },
        "id": "peQ-d1zoqGwn",
        "outputId": "12300c6f-c153-42d3-de40-ebf556ea425b"
      },
      "execution_count": 177,
      "outputs": [
        {
          "output_type": "execute_result",
          "data": {
            "text/plain": [
              "v1               0\n",
              "v2               0\n",
              "Unnamed: 2    5522\n",
              "Unnamed: 3    5560\n",
              "Unnamed: 4    5566\n",
              "dtype: int64"
            ],
            "text/html": [
              "<div>\n",
              "<style scoped>\n",
              "    .dataframe tbody tr th:only-of-type {\n",
              "        vertical-align: middle;\n",
              "    }\n",
              "\n",
              "    .dataframe tbody tr th {\n",
              "        vertical-align: top;\n",
              "    }\n",
              "\n",
              "    .dataframe thead th {\n",
              "        text-align: right;\n",
              "    }\n",
              "</style>\n",
              "<table border=\"1\" class=\"dataframe\">\n",
              "  <thead>\n",
              "    <tr style=\"text-align: right;\">\n",
              "      <th></th>\n",
              "      <th>0</th>\n",
              "    </tr>\n",
              "  </thead>\n",
              "  <tbody>\n",
              "    <tr>\n",
              "      <th>v1</th>\n",
              "      <td>0</td>\n",
              "    </tr>\n",
              "    <tr>\n",
              "      <th>v2</th>\n",
              "      <td>0</td>\n",
              "    </tr>\n",
              "    <tr>\n",
              "      <th>Unnamed: 2</th>\n",
              "      <td>5522</td>\n",
              "    </tr>\n",
              "    <tr>\n",
              "      <th>Unnamed: 3</th>\n",
              "      <td>5560</td>\n",
              "    </tr>\n",
              "    <tr>\n",
              "      <th>Unnamed: 4</th>\n",
              "      <td>5566</td>\n",
              "    </tr>\n",
              "  </tbody>\n",
              "</table>\n",
              "</div><br><label><b>dtype:</b> int64</label>"
            ]
          },
          "metadata": {},
          "execution_count": 177
        }
      ]
    },
    {
      "cell_type": "code",
      "source": [
        "data.drop(columns=['Unnamed: 2','Unnamed: 3','Unnamed: 4'],inplace=True)"
      ],
      "metadata": {
        "id": "RxV7n3ylqSP5"
      },
      "execution_count": 178,
      "outputs": []
    },
    {
      "cell_type": "code",
      "source": [
        "data.head()"
      ],
      "metadata": {
        "colab": {
          "base_uri": "https://localhost:8080/",
          "height": 206
        },
        "id": "lii-aV-Oqjxh",
        "outputId": "f0b199e3-35b8-4094-bd79-7e68315d3a23"
      },
      "execution_count": 179,
      "outputs": [
        {
          "output_type": "execute_result",
          "data": {
            "text/plain": [
              "     v1                                                 v2\n",
              "0   ham  Go until jurong point, crazy.. Available only ...\n",
              "1   ham                      Ok lar... Joking wif u oni...\n",
              "2  spam  Free entry in 2 a wkly comp to win FA Cup fina...\n",
              "3   ham  U dun say so early hor... U c already then say...\n",
              "4   ham  Nah I don't think he goes to usf, he lives aro..."
            ],
            "text/html": [
              "\n",
              "  <div id=\"df-317d73c1-d505-4cf5-a739-694c29410898\" class=\"colab-df-container\">\n",
              "    <div>\n",
              "<style scoped>\n",
              "    .dataframe tbody tr th:only-of-type {\n",
              "        vertical-align: middle;\n",
              "    }\n",
              "\n",
              "    .dataframe tbody tr th {\n",
              "        vertical-align: top;\n",
              "    }\n",
              "\n",
              "    .dataframe thead th {\n",
              "        text-align: right;\n",
              "    }\n",
              "</style>\n",
              "<table border=\"1\" class=\"dataframe\">\n",
              "  <thead>\n",
              "    <tr style=\"text-align: right;\">\n",
              "      <th></th>\n",
              "      <th>v1</th>\n",
              "      <th>v2</th>\n",
              "    </tr>\n",
              "  </thead>\n",
              "  <tbody>\n",
              "    <tr>\n",
              "      <th>0</th>\n",
              "      <td>ham</td>\n",
              "      <td>Go until jurong point, crazy.. Available only ...</td>\n",
              "    </tr>\n",
              "    <tr>\n",
              "      <th>1</th>\n",
              "      <td>ham</td>\n",
              "      <td>Ok lar... Joking wif u oni...</td>\n",
              "    </tr>\n",
              "    <tr>\n",
              "      <th>2</th>\n",
              "      <td>spam</td>\n",
              "      <td>Free entry in 2 a wkly comp to win FA Cup fina...</td>\n",
              "    </tr>\n",
              "    <tr>\n",
              "      <th>3</th>\n",
              "      <td>ham</td>\n",
              "      <td>U dun say so early hor... U c already then say...</td>\n",
              "    </tr>\n",
              "    <tr>\n",
              "      <th>4</th>\n",
              "      <td>ham</td>\n",
              "      <td>Nah I don't think he goes to usf, he lives aro...</td>\n",
              "    </tr>\n",
              "  </tbody>\n",
              "</table>\n",
              "</div>\n",
              "    <div class=\"colab-df-buttons\">\n",
              "\n",
              "  <div class=\"colab-df-container\">\n",
              "    <button class=\"colab-df-convert\" onclick=\"convertToInteractive('df-317d73c1-d505-4cf5-a739-694c29410898')\"\n",
              "            title=\"Convert this dataframe to an interactive table.\"\n",
              "            style=\"display:none;\">\n",
              "\n",
              "  <svg xmlns=\"http://www.w3.org/2000/svg\" height=\"24px\" viewBox=\"0 -960 960 960\">\n",
              "    <path d=\"M120-120v-720h720v720H120Zm60-500h600v-160H180v160Zm220 220h160v-160H400v160Zm0 220h160v-160H400v160ZM180-400h160v-160H180v160Zm440 0h160v-160H620v160ZM180-180h160v-160H180v160Zm440 0h160v-160H620v160Z\"/>\n",
              "  </svg>\n",
              "    </button>\n",
              "\n",
              "  <style>\n",
              "    .colab-df-container {\n",
              "      display:flex;\n",
              "      gap: 12px;\n",
              "    }\n",
              "\n",
              "    .colab-df-convert {\n",
              "      background-color: #E8F0FE;\n",
              "      border: none;\n",
              "      border-radius: 50%;\n",
              "      cursor: pointer;\n",
              "      display: none;\n",
              "      fill: #1967D2;\n",
              "      height: 32px;\n",
              "      padding: 0 0 0 0;\n",
              "      width: 32px;\n",
              "    }\n",
              "\n",
              "    .colab-df-convert:hover {\n",
              "      background-color: #E2EBFA;\n",
              "      box-shadow: 0px 1px 2px rgba(60, 64, 67, 0.3), 0px 1px 3px 1px rgba(60, 64, 67, 0.15);\n",
              "      fill: #174EA6;\n",
              "    }\n",
              "\n",
              "    .colab-df-buttons div {\n",
              "      margin-bottom: 4px;\n",
              "    }\n",
              "\n",
              "    [theme=dark] .colab-df-convert {\n",
              "      background-color: #3B4455;\n",
              "      fill: #D2E3FC;\n",
              "    }\n",
              "\n",
              "    [theme=dark] .colab-df-convert:hover {\n",
              "      background-color: #434B5C;\n",
              "      box-shadow: 0px 1px 3px 1px rgba(0, 0, 0, 0.15);\n",
              "      filter: drop-shadow(0px 1px 2px rgba(0, 0, 0, 0.3));\n",
              "      fill: #FFFFFF;\n",
              "    }\n",
              "  </style>\n",
              "\n",
              "    <script>\n",
              "      const buttonEl =\n",
              "        document.querySelector('#df-317d73c1-d505-4cf5-a739-694c29410898 button.colab-df-convert');\n",
              "      buttonEl.style.display =\n",
              "        google.colab.kernel.accessAllowed ? 'block' : 'none';\n",
              "\n",
              "      async function convertToInteractive(key) {\n",
              "        const element = document.querySelector('#df-317d73c1-d505-4cf5-a739-694c29410898');\n",
              "        const dataTable =\n",
              "          await google.colab.kernel.invokeFunction('convertToInteractive',\n",
              "                                                    [key], {});\n",
              "        if (!dataTable) return;\n",
              "\n",
              "        const docLinkHtml = 'Like what you see? Visit the ' +\n",
              "          '<a target=\"_blank\" href=https://colab.research.google.com/notebooks/data_table.ipynb>data table notebook</a>'\n",
              "          + ' to learn more about interactive tables.';\n",
              "        element.innerHTML = '';\n",
              "        dataTable['output_type'] = 'display_data';\n",
              "        await google.colab.output.renderOutput(dataTable, element);\n",
              "        const docLink = document.createElement('div');\n",
              "        docLink.innerHTML = docLinkHtml;\n",
              "        element.appendChild(docLink);\n",
              "      }\n",
              "    </script>\n",
              "  </div>\n",
              "\n",
              "\n",
              "<div id=\"df-7ca8a742-4782-48cc-a21f-763ae7bc9895\">\n",
              "  <button class=\"colab-df-quickchart\" onclick=\"quickchart('df-7ca8a742-4782-48cc-a21f-763ae7bc9895')\"\n",
              "            title=\"Suggest charts\"\n",
              "            style=\"display:none;\">\n",
              "\n",
              "<svg xmlns=\"http://www.w3.org/2000/svg\" height=\"24px\"viewBox=\"0 0 24 24\"\n",
              "     width=\"24px\">\n",
              "    <g>\n",
              "        <path d=\"M19 3H5c-1.1 0-2 .9-2 2v14c0 1.1.9 2 2 2h14c1.1 0 2-.9 2-2V5c0-1.1-.9-2-2-2zM9 17H7v-7h2v7zm4 0h-2V7h2v10zm4 0h-2v-4h2v4z\"/>\n",
              "    </g>\n",
              "</svg>\n",
              "  </button>\n",
              "\n",
              "<style>\n",
              "  .colab-df-quickchart {\n",
              "      --bg-color: #E8F0FE;\n",
              "      --fill-color: #1967D2;\n",
              "      --hover-bg-color: #E2EBFA;\n",
              "      --hover-fill-color: #174EA6;\n",
              "      --disabled-fill-color: #AAA;\n",
              "      --disabled-bg-color: #DDD;\n",
              "  }\n",
              "\n",
              "  [theme=dark] .colab-df-quickchart {\n",
              "      --bg-color: #3B4455;\n",
              "      --fill-color: #D2E3FC;\n",
              "      --hover-bg-color: #434B5C;\n",
              "      --hover-fill-color: #FFFFFF;\n",
              "      --disabled-bg-color: #3B4455;\n",
              "      --disabled-fill-color: #666;\n",
              "  }\n",
              "\n",
              "  .colab-df-quickchart {\n",
              "    background-color: var(--bg-color);\n",
              "    border: none;\n",
              "    border-radius: 50%;\n",
              "    cursor: pointer;\n",
              "    display: none;\n",
              "    fill: var(--fill-color);\n",
              "    height: 32px;\n",
              "    padding: 0;\n",
              "    width: 32px;\n",
              "  }\n",
              "\n",
              "  .colab-df-quickchart:hover {\n",
              "    background-color: var(--hover-bg-color);\n",
              "    box-shadow: 0 1px 2px rgba(60, 64, 67, 0.3), 0 1px 3px 1px rgba(60, 64, 67, 0.15);\n",
              "    fill: var(--button-hover-fill-color);\n",
              "  }\n",
              "\n",
              "  .colab-df-quickchart-complete:disabled,\n",
              "  .colab-df-quickchart-complete:disabled:hover {\n",
              "    background-color: var(--disabled-bg-color);\n",
              "    fill: var(--disabled-fill-color);\n",
              "    box-shadow: none;\n",
              "  }\n",
              "\n",
              "  .colab-df-spinner {\n",
              "    border: 2px solid var(--fill-color);\n",
              "    border-color: transparent;\n",
              "    border-bottom-color: var(--fill-color);\n",
              "    animation:\n",
              "      spin 1s steps(1) infinite;\n",
              "  }\n",
              "\n",
              "  @keyframes spin {\n",
              "    0% {\n",
              "      border-color: transparent;\n",
              "      border-bottom-color: var(--fill-color);\n",
              "      border-left-color: var(--fill-color);\n",
              "    }\n",
              "    20% {\n",
              "      border-color: transparent;\n",
              "      border-left-color: var(--fill-color);\n",
              "      border-top-color: var(--fill-color);\n",
              "    }\n",
              "    30% {\n",
              "      border-color: transparent;\n",
              "      border-left-color: var(--fill-color);\n",
              "      border-top-color: var(--fill-color);\n",
              "      border-right-color: var(--fill-color);\n",
              "    }\n",
              "    40% {\n",
              "      border-color: transparent;\n",
              "      border-right-color: var(--fill-color);\n",
              "      border-top-color: var(--fill-color);\n",
              "    }\n",
              "    60% {\n",
              "      border-color: transparent;\n",
              "      border-right-color: var(--fill-color);\n",
              "    }\n",
              "    80% {\n",
              "      border-color: transparent;\n",
              "      border-right-color: var(--fill-color);\n",
              "      border-bottom-color: var(--fill-color);\n",
              "    }\n",
              "    90% {\n",
              "      border-color: transparent;\n",
              "      border-bottom-color: var(--fill-color);\n",
              "    }\n",
              "  }\n",
              "</style>\n",
              "\n",
              "  <script>\n",
              "    async function quickchart(key) {\n",
              "      const quickchartButtonEl =\n",
              "        document.querySelector('#' + key + ' button');\n",
              "      quickchartButtonEl.disabled = true;  // To prevent multiple clicks.\n",
              "      quickchartButtonEl.classList.add('colab-df-spinner');\n",
              "      try {\n",
              "        const charts = await google.colab.kernel.invokeFunction(\n",
              "            'suggestCharts', [key], {});\n",
              "      } catch (error) {\n",
              "        console.error('Error during call to suggestCharts:', error);\n",
              "      }\n",
              "      quickchartButtonEl.classList.remove('colab-df-spinner');\n",
              "      quickchartButtonEl.classList.add('colab-df-quickchart-complete');\n",
              "    }\n",
              "    (() => {\n",
              "      let quickchartButtonEl =\n",
              "        document.querySelector('#df-7ca8a742-4782-48cc-a21f-763ae7bc9895 button');\n",
              "      quickchartButtonEl.style.display =\n",
              "        google.colab.kernel.accessAllowed ? 'block' : 'none';\n",
              "    })();\n",
              "  </script>\n",
              "</div>\n",
              "\n",
              "    </div>\n",
              "  </div>\n"
            ],
            "application/vnd.google.colaboratory.intrinsic+json": {
              "type": "dataframe",
              "variable_name": "data",
              "summary": "{\n  \"name\": \"data\",\n  \"rows\": 5572,\n  \"fields\": [\n    {\n      \"column\": \"v1\",\n      \"properties\": {\n        \"dtype\": \"category\",\n        \"num_unique_values\": 2,\n        \"samples\": [\n          \"spam\",\n          \"ham\"\n        ],\n        \"semantic_type\": \"\",\n        \"description\": \"\"\n      }\n    },\n    {\n      \"column\": \"v2\",\n      \"properties\": {\n        \"dtype\": \"string\",\n        \"num_unique_values\": 5169,\n        \"samples\": [\n          \"Did u download the fring app?\",\n          \"Pass dis to all ur contacts n see wat u get! Red;i'm in luv wid u. Blue;u put a smile on my face. Purple;u r realy hot. Pink;u r so swt. Orange;i thnk i lyk u. Green;i realy wana go out wid u. Yelow;i wnt u bck. Black;i'm jealous of u. Brown;i miss you Nw plz giv me one color\"\n        ],\n        \"semantic_type\": \"\",\n        \"description\": \"\"\n      }\n    }\n  ]\n}"
            }
          },
          "metadata": {},
          "execution_count": 179
        }
      ]
    },
    {
      "cell_type": "code",
      "source": [
        "data.columns=['Category','Message']"
      ],
      "metadata": {
        "id": "mXCVIHXvrs1O"
      },
      "execution_count": 180,
      "outputs": []
    },
    {
      "cell_type": "code",
      "source": [
        "data.head()"
      ],
      "metadata": {
        "colab": {
          "base_uri": "https://localhost:8080/",
          "height": 206
        },
        "id": "BMyM4q8Qr7qW",
        "outputId": "306f8bd5-3483-490d-b14d-21daeac5d782"
      },
      "execution_count": 181,
      "outputs": [
        {
          "output_type": "execute_result",
          "data": {
            "text/plain": [
              "  Category                                            Message\n",
              "0      ham  Go until jurong point, crazy.. Available only ...\n",
              "1      ham                      Ok lar... Joking wif u oni...\n",
              "2     spam  Free entry in 2 a wkly comp to win FA Cup fina...\n",
              "3      ham  U dun say so early hor... U c already then say...\n",
              "4      ham  Nah I don't think he goes to usf, he lives aro..."
            ],
            "text/html": [
              "\n",
              "  <div id=\"df-45d1a8b0-d3b8-4b1d-880f-9427c5709ff4\" class=\"colab-df-container\">\n",
              "    <div>\n",
              "<style scoped>\n",
              "    .dataframe tbody tr th:only-of-type {\n",
              "        vertical-align: middle;\n",
              "    }\n",
              "\n",
              "    .dataframe tbody tr th {\n",
              "        vertical-align: top;\n",
              "    }\n",
              "\n",
              "    .dataframe thead th {\n",
              "        text-align: right;\n",
              "    }\n",
              "</style>\n",
              "<table border=\"1\" class=\"dataframe\">\n",
              "  <thead>\n",
              "    <tr style=\"text-align: right;\">\n",
              "      <th></th>\n",
              "      <th>Category</th>\n",
              "      <th>Message</th>\n",
              "    </tr>\n",
              "  </thead>\n",
              "  <tbody>\n",
              "    <tr>\n",
              "      <th>0</th>\n",
              "      <td>ham</td>\n",
              "      <td>Go until jurong point, crazy.. Available only ...</td>\n",
              "    </tr>\n",
              "    <tr>\n",
              "      <th>1</th>\n",
              "      <td>ham</td>\n",
              "      <td>Ok lar... Joking wif u oni...</td>\n",
              "    </tr>\n",
              "    <tr>\n",
              "      <th>2</th>\n",
              "      <td>spam</td>\n",
              "      <td>Free entry in 2 a wkly comp to win FA Cup fina...</td>\n",
              "    </tr>\n",
              "    <tr>\n",
              "      <th>3</th>\n",
              "      <td>ham</td>\n",
              "      <td>U dun say so early hor... U c already then say...</td>\n",
              "    </tr>\n",
              "    <tr>\n",
              "      <th>4</th>\n",
              "      <td>ham</td>\n",
              "      <td>Nah I don't think he goes to usf, he lives aro...</td>\n",
              "    </tr>\n",
              "  </tbody>\n",
              "</table>\n",
              "</div>\n",
              "    <div class=\"colab-df-buttons\">\n",
              "\n",
              "  <div class=\"colab-df-container\">\n",
              "    <button class=\"colab-df-convert\" onclick=\"convertToInteractive('df-45d1a8b0-d3b8-4b1d-880f-9427c5709ff4')\"\n",
              "            title=\"Convert this dataframe to an interactive table.\"\n",
              "            style=\"display:none;\">\n",
              "\n",
              "  <svg xmlns=\"http://www.w3.org/2000/svg\" height=\"24px\" viewBox=\"0 -960 960 960\">\n",
              "    <path d=\"M120-120v-720h720v720H120Zm60-500h600v-160H180v160Zm220 220h160v-160H400v160Zm0 220h160v-160H400v160ZM180-400h160v-160H180v160Zm440 0h160v-160H620v160ZM180-180h160v-160H180v160Zm440 0h160v-160H620v160Z\"/>\n",
              "  </svg>\n",
              "    </button>\n",
              "\n",
              "  <style>\n",
              "    .colab-df-container {\n",
              "      display:flex;\n",
              "      gap: 12px;\n",
              "    }\n",
              "\n",
              "    .colab-df-convert {\n",
              "      background-color: #E8F0FE;\n",
              "      border: none;\n",
              "      border-radius: 50%;\n",
              "      cursor: pointer;\n",
              "      display: none;\n",
              "      fill: #1967D2;\n",
              "      height: 32px;\n",
              "      padding: 0 0 0 0;\n",
              "      width: 32px;\n",
              "    }\n",
              "\n",
              "    .colab-df-convert:hover {\n",
              "      background-color: #E2EBFA;\n",
              "      box-shadow: 0px 1px 2px rgba(60, 64, 67, 0.3), 0px 1px 3px 1px rgba(60, 64, 67, 0.15);\n",
              "      fill: #174EA6;\n",
              "    }\n",
              "\n",
              "    .colab-df-buttons div {\n",
              "      margin-bottom: 4px;\n",
              "    }\n",
              "\n",
              "    [theme=dark] .colab-df-convert {\n",
              "      background-color: #3B4455;\n",
              "      fill: #D2E3FC;\n",
              "    }\n",
              "\n",
              "    [theme=dark] .colab-df-convert:hover {\n",
              "      background-color: #434B5C;\n",
              "      box-shadow: 0px 1px 3px 1px rgba(0, 0, 0, 0.15);\n",
              "      filter: drop-shadow(0px 1px 2px rgba(0, 0, 0, 0.3));\n",
              "      fill: #FFFFFF;\n",
              "    }\n",
              "  </style>\n",
              "\n",
              "    <script>\n",
              "      const buttonEl =\n",
              "        document.querySelector('#df-45d1a8b0-d3b8-4b1d-880f-9427c5709ff4 button.colab-df-convert');\n",
              "      buttonEl.style.display =\n",
              "        google.colab.kernel.accessAllowed ? 'block' : 'none';\n",
              "\n",
              "      async function convertToInteractive(key) {\n",
              "        const element = document.querySelector('#df-45d1a8b0-d3b8-4b1d-880f-9427c5709ff4');\n",
              "        const dataTable =\n",
              "          await google.colab.kernel.invokeFunction('convertToInteractive',\n",
              "                                                    [key], {});\n",
              "        if (!dataTable) return;\n",
              "\n",
              "        const docLinkHtml = 'Like what you see? Visit the ' +\n",
              "          '<a target=\"_blank\" href=https://colab.research.google.com/notebooks/data_table.ipynb>data table notebook</a>'\n",
              "          + ' to learn more about interactive tables.';\n",
              "        element.innerHTML = '';\n",
              "        dataTable['output_type'] = 'display_data';\n",
              "        await google.colab.output.renderOutput(dataTable, element);\n",
              "        const docLink = document.createElement('div');\n",
              "        docLink.innerHTML = docLinkHtml;\n",
              "        element.appendChild(docLink);\n",
              "      }\n",
              "    </script>\n",
              "  </div>\n",
              "\n",
              "\n",
              "<div id=\"df-f3da2687-6287-4633-984d-d2cd0b4b002f\">\n",
              "  <button class=\"colab-df-quickchart\" onclick=\"quickchart('df-f3da2687-6287-4633-984d-d2cd0b4b002f')\"\n",
              "            title=\"Suggest charts\"\n",
              "            style=\"display:none;\">\n",
              "\n",
              "<svg xmlns=\"http://www.w3.org/2000/svg\" height=\"24px\"viewBox=\"0 0 24 24\"\n",
              "     width=\"24px\">\n",
              "    <g>\n",
              "        <path d=\"M19 3H5c-1.1 0-2 .9-2 2v14c0 1.1.9 2 2 2h14c1.1 0 2-.9 2-2V5c0-1.1-.9-2-2-2zM9 17H7v-7h2v7zm4 0h-2V7h2v10zm4 0h-2v-4h2v4z\"/>\n",
              "    </g>\n",
              "</svg>\n",
              "  </button>\n",
              "\n",
              "<style>\n",
              "  .colab-df-quickchart {\n",
              "      --bg-color: #E8F0FE;\n",
              "      --fill-color: #1967D2;\n",
              "      --hover-bg-color: #E2EBFA;\n",
              "      --hover-fill-color: #174EA6;\n",
              "      --disabled-fill-color: #AAA;\n",
              "      --disabled-bg-color: #DDD;\n",
              "  }\n",
              "\n",
              "  [theme=dark] .colab-df-quickchart {\n",
              "      --bg-color: #3B4455;\n",
              "      --fill-color: #D2E3FC;\n",
              "      --hover-bg-color: #434B5C;\n",
              "      --hover-fill-color: #FFFFFF;\n",
              "      --disabled-bg-color: #3B4455;\n",
              "      --disabled-fill-color: #666;\n",
              "  }\n",
              "\n",
              "  .colab-df-quickchart {\n",
              "    background-color: var(--bg-color);\n",
              "    border: none;\n",
              "    border-radius: 50%;\n",
              "    cursor: pointer;\n",
              "    display: none;\n",
              "    fill: var(--fill-color);\n",
              "    height: 32px;\n",
              "    padding: 0;\n",
              "    width: 32px;\n",
              "  }\n",
              "\n",
              "  .colab-df-quickchart:hover {\n",
              "    background-color: var(--hover-bg-color);\n",
              "    box-shadow: 0 1px 2px rgba(60, 64, 67, 0.3), 0 1px 3px 1px rgba(60, 64, 67, 0.15);\n",
              "    fill: var(--button-hover-fill-color);\n",
              "  }\n",
              "\n",
              "  .colab-df-quickchart-complete:disabled,\n",
              "  .colab-df-quickchart-complete:disabled:hover {\n",
              "    background-color: var(--disabled-bg-color);\n",
              "    fill: var(--disabled-fill-color);\n",
              "    box-shadow: none;\n",
              "  }\n",
              "\n",
              "  .colab-df-spinner {\n",
              "    border: 2px solid var(--fill-color);\n",
              "    border-color: transparent;\n",
              "    border-bottom-color: var(--fill-color);\n",
              "    animation:\n",
              "      spin 1s steps(1) infinite;\n",
              "  }\n",
              "\n",
              "  @keyframes spin {\n",
              "    0% {\n",
              "      border-color: transparent;\n",
              "      border-bottom-color: var(--fill-color);\n",
              "      border-left-color: var(--fill-color);\n",
              "    }\n",
              "    20% {\n",
              "      border-color: transparent;\n",
              "      border-left-color: var(--fill-color);\n",
              "      border-top-color: var(--fill-color);\n",
              "    }\n",
              "    30% {\n",
              "      border-color: transparent;\n",
              "      border-left-color: var(--fill-color);\n",
              "      border-top-color: var(--fill-color);\n",
              "      border-right-color: var(--fill-color);\n",
              "    }\n",
              "    40% {\n",
              "      border-color: transparent;\n",
              "      border-right-color: var(--fill-color);\n",
              "      border-top-color: var(--fill-color);\n",
              "    }\n",
              "    60% {\n",
              "      border-color: transparent;\n",
              "      border-right-color: var(--fill-color);\n",
              "    }\n",
              "    80% {\n",
              "      border-color: transparent;\n",
              "      border-right-color: var(--fill-color);\n",
              "      border-bottom-color: var(--fill-color);\n",
              "    }\n",
              "    90% {\n",
              "      border-color: transparent;\n",
              "      border-bottom-color: var(--fill-color);\n",
              "    }\n",
              "  }\n",
              "</style>\n",
              "\n",
              "  <script>\n",
              "    async function quickchart(key) {\n",
              "      const quickchartButtonEl =\n",
              "        document.querySelector('#' + key + ' button');\n",
              "      quickchartButtonEl.disabled = true;  // To prevent multiple clicks.\n",
              "      quickchartButtonEl.classList.add('colab-df-spinner');\n",
              "      try {\n",
              "        const charts = await google.colab.kernel.invokeFunction(\n",
              "            'suggestCharts', [key], {});\n",
              "      } catch (error) {\n",
              "        console.error('Error during call to suggestCharts:', error);\n",
              "      }\n",
              "      quickchartButtonEl.classList.remove('colab-df-spinner');\n",
              "      quickchartButtonEl.classList.add('colab-df-quickchart-complete');\n",
              "    }\n",
              "    (() => {\n",
              "      let quickchartButtonEl =\n",
              "        document.querySelector('#df-f3da2687-6287-4633-984d-d2cd0b4b002f button');\n",
              "      quickchartButtonEl.style.display =\n",
              "        google.colab.kernel.accessAllowed ? 'block' : 'none';\n",
              "    })();\n",
              "  </script>\n",
              "</div>\n",
              "\n",
              "    </div>\n",
              "  </div>\n"
            ],
            "application/vnd.google.colaboratory.intrinsic+json": {
              "type": "dataframe",
              "variable_name": "data",
              "summary": "{\n  \"name\": \"data\",\n  \"rows\": 5572,\n  \"fields\": [\n    {\n      \"column\": \"Category\",\n      \"properties\": {\n        \"dtype\": \"category\",\n        \"num_unique_values\": 2,\n        \"samples\": [\n          \"spam\",\n          \"ham\"\n        ],\n        \"semantic_type\": \"\",\n        \"description\": \"\"\n      }\n    },\n    {\n      \"column\": \"Message\",\n      \"properties\": {\n        \"dtype\": \"string\",\n        \"num_unique_values\": 5169,\n        \"samples\": [\n          \"Did u download the fring app?\",\n          \"Pass dis to all ur contacts n see wat u get! Red;i'm in luv wid u. Blue;u put a smile on my face. Purple;u r realy hot. Pink;u r so swt. Orange;i thnk i lyk u. Green;i realy wana go out wid u. Yelow;i wnt u bck. Black;i'm jealous of u. Brown;i miss you Nw plz giv me one color\"\n        ],\n        \"semantic_type\": \"\",\n        \"description\": \"\"\n      }\n    }\n  ]\n}"
            }
          },
          "metadata": {},
          "execution_count": 181
        }
      ]
    },
    {
      "cell_type": "code",
      "source": [
        "import plotly.express as px\n",
        "px.histogram(data,x='Category',color='Category')"
      ],
      "metadata": {
        "colab": {
          "base_uri": "https://localhost:8080/",
          "height": 542
        },
        "id": "YRXaQywMr9OV",
        "outputId": "8cc7599c-04a9-4cf5-ac97-1c0b99cf3d56"
      },
      "execution_count": 182,
      "outputs": [
        {
          "output_type": "display_data",
          "data": {
            "text/html": [
              "<html>\n",
              "<head><meta charset=\"utf-8\" /></head>\n",
              "<body>\n",
              "    <div>            <script src=\"https://cdnjs.cloudflare.com/ajax/libs/mathjax/2.7.5/MathJax.js?config=TeX-AMS-MML_SVG\"></script><script type=\"text/javascript\">if (window.MathJax && window.MathJax.Hub && window.MathJax.Hub.Config) {window.MathJax.Hub.Config({SVG: {font: \"STIX-Web\"}});}</script>                <script type=\"text/javascript\">window.PlotlyConfig = {MathJaxConfig: 'local'};</script>\n",
              "        <script charset=\"utf-8\" src=\"https://cdn.plot.ly/plotly-2.24.1.min.js\"></script>                <div id=\"cedaa16d-60cc-4078-ad94-843450d195ae\" class=\"plotly-graph-div\" style=\"height:525px; width:100%;\"></div>            <script type=\"text/javascript\">                                    window.PLOTLYENV=window.PLOTLYENV || {};                                    if (document.getElementById(\"cedaa16d-60cc-4078-ad94-843450d195ae\")) {                    Plotly.newPlot(                        \"cedaa16d-60cc-4078-ad94-843450d195ae\",                        [{\"alignmentgroup\":\"True\",\"bingroup\":\"x\",\"hovertemplate\":\"Category=%{x}\\u003cbr\\u003ecount=%{y}\\u003cextra\\u003e\\u003c\\u002fextra\\u003e\",\"legendgroup\":\"ham\",\"marker\":{\"color\":\"#636efa\",\"pattern\":{\"shape\":\"\"}},\"name\":\"ham\",\"offsetgroup\":\"ham\",\"orientation\":\"v\",\"showlegend\":true,\"x\":[\"ham\",\"ham\",\"ham\",\"ham\",\"ham\",\"ham\",\"ham\",\"ham\",\"ham\",\"ham\",\"ham\",\"ham\",\"ham\",\"ham\",\"ham\",\"ham\",\"ham\",\"ham\",\"ham\",\"ham\",\"ham\",\"ham\",\"ham\",\"ham\",\"ham\",\"ham\",\"ham\",\"ham\",\"ham\",\"ham\",\"ham\",\"ham\",\"ham\",\"ham\",\"ham\",\"ham\",\"ham\",\"ham\",\"ham\",\"ham\",\"ham\",\"ham\",\"ham\",\"ham\",\"ham\",\"ham\",\"ham\",\"ham\",\"ham\",\"ham\",\"ham\",\"ham\",\"ham\",\"ham\",\"ham\",\"ham\",\"ham\",\"ham\",\"ham\",\"ham\",\"ham\",\"ham\",\"ham\",\"ham\",\"ham\",\"ham\",\"ham\",\"ham\",\"ham\",\"ham\",\"ham\",\"ham\",\"ham\",\"ham\",\"ham\",\"ham\",\"ham\",\"ham\",\"ham\",\"ham\",\"ham\",\"ham\",\"ham\",\"ham\",\"ham\",\"ham\",\"ham\",\"ham\",\"ham\",\"ham\",\"ham\",\"ham\",\"ham\",\"ham\",\"ham\",\"ham\",\"ham\",\"ham\",\"ham\",\"ham\",\"ham\",\"ham\",\"ham\",\"ham\",\"ham\",\"ham\",\"ham\",\"ham\",\"ham\",\"ham\",\"ham\",\"ham\",\"ham\",\"ham\",\"ham\",\"ham\",\"ham\",\"ham\",\"ham\",\"ham\",\"ham\",\"ham\",\"ham\",\"ham\",\"ham\",\"ham\",\"ham\",\"ham\",\"ham\",\"ham\",\"ham\",\"ham\",\"ham\",\"ham\",\"ham\",\"ham\",\"ham\",\"ham\",\"ham\",\"ham\",\"ham\",\"ham\",\"ham\",\"ham\",\"ham\",\"ham\",\"ham\",\"ham\",\"ham\",\"ham\",\"ham\",\"ham\",\"ham\",\"ham\",\"ham\",\"ham\",\"ham\",\"ham\",\"ham\",\"ham\",\"ham\",\"ham\",\"ham\",\"ham\",\"ham\",\"ham\",\"ham\",\"ham\",\"ham\",\"ham\",\"ham\",\"ham\",\"ham\",\"ham\",\"ham\",\"ham\",\"ham\",\"ham\",\"ham\",\"ham\",\"ham\",\"ham\",\"ham\",\"ham\",\"ham\",\"ham\",\"ham\",\"ham\",\"ham\",\"ham\",\"ham\",\"ham\",\"ham\",\"ham\",\"ham\",\"ham\",\"ham\",\"ham\",\"ham\",\"ham\",\"ham\",\"ham\",\"ham\",\"ham\",\"ham\",\"ham\",\"ham\",\"ham\",\"ham\",\"ham\",\"ham\",\"ham\",\"ham\",\"ham\",\"ham\",\"ham\",\"ham\",\"ham\",\"ham\",\"ham\",\"ham\",\"ham\",\"ham\",\"ham\",\"ham\",\"ham\",\"ham\",\"ham\",\"ham\",\"ham\",\"ham\",\"ham\",\"ham\",\"ham\",\"ham\",\"ham\",\"ham\",\"ham\",\"ham\",\"ham\",\"ham\",\"ham\",\"ham\",\"ham\",\"ham\",\"ham\",\"ham\",\"ham\",\"ham\",\"ham\",\"ham\",\"ham\",\"ham\",\"ham\",\"ham\",\"ham\",\"ham\",\"ham\",\"ham\",\"ham\",\"ham\",\"ham\",\"ham\",\"ham\",\"ham\",\"ham\",\"ham\",\"ham\",\"ham\",\"ham\",\"ham\",\"ham\",\"ham\",\"ham\",\"ham\",\"ham\",\"ham\",\"ham\",\"ham\",\"ham\",\"ham\",\"ham\",\"ham\",\"ham\",\"ham\",\"ham\",\"ham\",\"ham\",\"ham\",\"ham\",\"ham\",\"ham\",\"ham\",\"ham\",\"ham\",\"ham\",\"ham\",\"ham\",\"ham\",\"ham\",\"ham\",\"ham\",\"ham\",\"ham\",\"ham\",\"ham\",\"ham\",\"ham\",\"ham\",\"ham\",\"ham\",\"ham\",\"ham\",\"ham\",\"ham\",\"ham\",\"ham\",\"ham\",\"ham\",\"ham\",\"ham\",\"ham\",\"ham\",\"ham\",\"ham\",\"ham\",\"ham\",\"ham\",\"ham\",\"ham\",\"ham\",\"ham\",\"ham\",\"ham\",\"ham\",\"ham\",\"ham\",\"ham\",\"ham\",\"ham\",\"ham\",\"ham\",\"ham\",\"ham\",\"ham\",\"ham\",\"ham\",\"ham\",\"ham\",\"ham\",\"ham\",\"ham\",\"ham\",\"ham\",\"ham\",\"ham\",\"ham\",\"ham\",\"ham\",\"ham\",\"ham\",\"ham\",\"ham\",\"ham\",\"ham\",\"ham\",\"ham\",\"ham\",\"ham\",\"ham\",\"ham\",\"ham\",\"ham\",\"ham\",\"ham\",\"ham\",\"ham\",\"ham\",\"ham\",\"ham\",\"ham\",\"ham\",\"ham\",\"ham\",\"ham\",\"ham\",\"ham\",\"ham\",\"ham\",\"ham\",\"ham\",\"ham\",\"ham\",\"ham\",\"ham\",\"ham\",\"ham\",\"ham\",\"ham\",\"ham\",\"ham\",\"ham\",\"ham\",\"ham\",\"ham\",\"ham\",\"ham\",\"ham\",\"ham\",\"ham\",\"ham\",\"ham\",\"ham\",\"ham\",\"ham\",\"ham\",\"ham\",\"ham\",\"ham\",\"ham\",\"ham\",\"ham\",\"ham\",\"ham\",\"ham\",\"ham\",\"ham\",\"ham\",\"ham\",\"ham\",\"ham\",\"ham\",\"ham\",\"ham\",\"ham\",\"ham\",\"ham\",\"ham\",\"ham\",\"ham\",\"ham\",\"ham\",\"ham\",\"ham\",\"ham\",\"ham\",\"ham\",\"ham\",\"ham\",\"ham\",\"ham\",\"ham\",\"ham\",\"ham\",\"ham\",\"ham\",\"ham\",\"ham\",\"ham\",\"ham\",\"ham\",\"ham\",\"ham\",\"ham\",\"ham\",\"ham\",\"ham\",\"ham\",\"ham\",\"ham\",\"ham\",\"ham\",\"ham\",\"ham\",\"ham\",\"ham\",\"ham\",\"ham\",\"ham\",\"ham\",\"ham\",\"ham\",\"ham\",\"ham\",\"ham\",\"ham\",\"ham\",\"ham\",\"ham\",\"ham\",\"ham\",\"ham\",\"ham\",\"ham\",\"ham\",\"ham\",\"ham\",\"ham\",\"ham\",\"ham\",\"ham\",\"ham\",\"ham\",\"ham\",\"ham\",\"ham\",\"ham\",\"ham\",\"ham\",\"ham\",\"ham\",\"ham\",\"ham\",\"ham\",\"ham\",\"ham\",\"ham\",\"ham\",\"ham\",\"ham\",\"ham\",\"ham\",\"ham\",\"ham\",\"ham\",\"ham\",\"ham\",\"ham\",\"ham\",\"ham\",\"ham\",\"ham\",\"ham\",\"ham\",\"ham\",\"ham\",\"ham\",\"ham\",\"ham\",\"ham\",\"ham\",\"ham\",\"ham\",\"ham\",\"ham\",\"ham\",\"ham\",\"ham\",\"ham\",\"ham\",\"ham\",\"ham\",\"ham\",\"ham\",\"ham\",\"ham\",\"ham\",\"ham\",\"ham\",\"ham\",\"ham\",\"ham\",\"ham\",\"ham\",\"ham\",\"ham\",\"ham\",\"ham\",\"ham\",\"ham\",\"ham\",\"ham\",\"ham\",\"ham\",\"ham\",\"ham\",\"ham\",\"ham\",\"ham\",\"ham\",\"ham\",\"ham\",\"ham\",\"ham\",\"ham\",\"ham\",\"ham\",\"ham\",\"ham\",\"ham\",\"ham\",\"ham\",\"ham\",\"ham\",\"ham\",\"ham\",\"ham\",\"ham\",\"ham\",\"ham\",\"ham\",\"ham\",\"ham\",\"ham\",\"ham\",\"ham\",\"ham\",\"ham\",\"ham\",\"ham\",\"ham\",\"ham\",\"ham\",\"ham\",\"ham\",\"ham\",\"ham\",\"ham\",\"ham\",\"ham\",\"ham\",\"ham\",\"ham\",\"ham\",\"ham\",\"ham\",\"ham\",\"ham\",\"ham\",\"ham\",\"ham\",\"ham\",\"ham\",\"ham\",\"ham\",\"ham\",\"ham\",\"ham\",\"ham\",\"ham\",\"ham\",\"ham\",\"ham\",\"ham\",\"ham\",\"ham\",\"ham\",\"ham\",\"ham\",\"ham\",\"ham\",\"ham\",\"ham\",\"ham\",\"ham\",\"ham\",\"ham\",\"ham\",\"ham\",\"ham\",\"ham\",\"ham\",\"ham\",\"ham\",\"ham\",\"ham\",\"ham\",\"ham\",\"ham\",\"ham\",\"ham\",\"ham\",\"ham\",\"ham\",\"ham\",\"ham\",\"ham\",\"ham\",\"ham\",\"ham\",\"ham\",\"ham\",\"ham\",\"ham\",\"ham\",\"ham\",\"ham\",\"ham\",\"ham\",\"ham\",\"ham\",\"ham\",\"ham\",\"ham\",\"ham\",\"ham\",\"ham\",\"ham\",\"ham\",\"ham\",\"ham\",\"ham\",\"ham\",\"ham\",\"ham\",\"ham\",\"ham\",\"ham\",\"ham\",\"ham\",\"ham\",\"ham\",\"ham\",\"ham\",\"ham\",\"ham\",\"ham\",\"ham\",\"ham\",\"ham\",\"ham\",\"ham\",\"ham\",\"ham\",\"ham\",\"ham\",\"ham\",\"ham\",\"ham\",\"ham\",\"ham\",\"ham\",\"ham\",\"ham\",\"ham\",\"ham\",\"ham\",\"ham\",\"ham\",\"ham\",\"ham\",\"ham\",\"ham\",\"ham\",\"ham\",\"ham\",\"ham\",\"ham\",\"ham\",\"ham\",\"ham\",\"ham\",\"ham\",\"ham\",\"ham\",\"ham\",\"ham\",\"ham\",\"ham\",\"ham\",\"ham\",\"ham\",\"ham\",\"ham\",\"ham\",\"ham\",\"ham\",\"ham\",\"ham\",\"ham\",\"ham\",\"ham\",\"ham\",\"ham\",\"ham\",\"ham\",\"ham\",\"ham\",\"ham\",\"ham\",\"ham\",\"ham\",\"ham\",\"ham\",\"ham\",\"ham\",\"ham\",\"ham\",\"ham\",\"ham\",\"ham\",\"ham\",\"ham\",\"ham\",\"ham\",\"ham\",\"ham\",\"ham\",\"ham\",\"ham\",\"ham\",\"ham\",\"ham\",\"ham\",\"ham\",\"ham\",\"ham\",\"ham\",\"ham\",\"ham\",\"ham\",\"ham\",\"ham\",\"ham\",\"ham\",\"ham\",\"ham\",\"ham\",\"ham\",\"ham\",\"ham\",\"ham\",\"ham\",\"ham\",\"ham\",\"ham\",\"ham\",\"ham\",\"ham\",\"ham\",\"ham\",\"ham\",\"ham\",\"ham\",\"ham\",\"ham\",\"ham\",\"ham\",\"ham\",\"ham\",\"ham\",\"ham\",\"ham\",\"ham\",\"ham\",\"ham\",\"ham\",\"ham\",\"ham\",\"ham\",\"ham\",\"ham\",\"ham\",\"ham\",\"ham\",\"ham\",\"ham\",\"ham\",\"ham\",\"ham\",\"ham\",\"ham\",\"ham\",\"ham\",\"ham\",\"ham\",\"ham\",\"ham\",\"ham\",\"ham\",\"ham\",\"ham\",\"ham\",\"ham\",\"ham\",\"ham\",\"ham\",\"ham\",\"ham\",\"ham\",\"ham\",\"ham\",\"ham\",\"ham\",\"ham\",\"ham\",\"ham\",\"ham\",\"ham\",\"ham\",\"ham\",\"ham\",\"ham\",\"ham\",\"ham\",\"ham\",\"ham\",\"ham\",\"ham\",\"ham\",\"ham\",\"ham\",\"ham\",\"ham\",\"ham\",\"ham\",\"ham\",\"ham\",\"ham\",\"ham\",\"ham\",\"ham\",\"ham\",\"ham\",\"ham\",\"ham\",\"ham\",\"ham\",\"ham\",\"ham\",\"ham\",\"ham\",\"ham\",\"ham\",\"ham\",\"ham\",\"ham\",\"ham\",\"ham\",\"ham\",\"ham\",\"ham\",\"ham\",\"ham\",\"ham\",\"ham\",\"ham\",\"ham\",\"ham\",\"ham\",\"ham\",\"ham\",\"ham\",\"ham\",\"ham\",\"ham\",\"ham\",\"ham\",\"ham\",\"ham\",\"ham\",\"ham\",\"ham\",\"ham\",\"ham\",\"ham\",\"ham\",\"ham\",\"ham\",\"ham\",\"ham\",\"ham\",\"ham\",\"ham\",\"ham\",\"ham\",\"ham\",\"ham\",\"ham\",\"ham\",\"ham\",\"ham\",\"ham\",\"ham\",\"ham\",\"ham\",\"ham\",\"ham\",\"ham\",\"ham\",\"ham\",\"ham\",\"ham\",\"ham\",\"ham\",\"ham\",\"ham\",\"ham\",\"ham\",\"ham\",\"ham\",\"ham\",\"ham\",\"ham\",\"ham\",\"ham\",\"ham\",\"ham\",\"ham\",\"ham\",\"ham\",\"ham\",\"ham\",\"ham\",\"ham\",\"ham\",\"ham\",\"ham\",\"ham\",\"ham\",\"ham\",\"ham\",\"ham\",\"ham\",\"ham\",\"ham\",\"ham\",\"ham\",\"ham\",\"ham\",\"ham\",\"ham\",\"ham\",\"ham\",\"ham\",\"ham\",\"ham\",\"ham\",\"ham\",\"ham\",\"ham\",\"ham\",\"ham\",\"ham\",\"ham\",\"ham\",\"ham\",\"ham\",\"ham\",\"ham\",\"ham\",\"ham\",\"ham\",\"ham\",\"ham\",\"ham\",\"ham\",\"ham\",\"ham\",\"ham\",\"ham\",\"ham\",\"ham\",\"ham\",\"ham\",\"ham\",\"ham\",\"ham\",\"ham\",\"ham\",\"ham\",\"ham\",\"ham\",\"ham\",\"ham\",\"ham\",\"ham\",\"ham\",\"ham\",\"ham\",\"ham\",\"ham\",\"ham\",\"ham\",\"ham\",\"ham\",\"ham\",\"ham\",\"ham\",\"ham\",\"ham\",\"ham\",\"ham\",\"ham\",\"ham\",\"ham\",\"ham\",\"ham\",\"ham\",\"ham\",\"ham\",\"ham\",\"ham\",\"ham\",\"ham\",\"ham\",\"ham\",\"ham\",\"ham\",\"ham\",\"ham\",\"ham\",\"ham\",\"ham\",\"ham\",\"ham\",\"ham\",\"ham\",\"ham\",\"ham\",\"ham\",\"ham\",\"ham\",\"ham\",\"ham\",\"ham\",\"ham\",\"ham\",\"ham\",\"ham\",\"ham\",\"ham\",\"ham\",\"ham\",\"ham\",\"ham\",\"ham\",\"ham\",\"ham\",\"ham\",\"ham\",\"ham\",\"ham\",\"ham\",\"ham\",\"ham\",\"ham\",\"ham\",\"ham\",\"ham\",\"ham\",\"ham\",\"ham\",\"ham\",\"ham\",\"ham\",\"ham\",\"ham\",\"ham\",\"ham\",\"ham\",\"ham\",\"ham\",\"ham\",\"ham\",\"ham\",\"ham\",\"ham\",\"ham\",\"ham\",\"ham\",\"ham\",\"ham\",\"ham\",\"ham\",\"ham\",\"ham\",\"ham\",\"ham\",\"ham\",\"ham\",\"ham\",\"ham\",\"ham\",\"ham\",\"ham\",\"ham\",\"ham\",\"ham\",\"ham\",\"ham\",\"ham\",\"ham\",\"ham\",\"ham\",\"ham\",\"ham\",\"ham\",\"ham\",\"ham\",\"ham\",\"ham\",\"ham\",\"ham\",\"ham\",\"ham\",\"ham\",\"ham\",\"ham\",\"ham\",\"ham\",\"ham\",\"ham\",\"ham\",\"ham\",\"ham\",\"ham\",\"ham\",\"ham\",\"ham\",\"ham\",\"ham\",\"ham\",\"ham\",\"ham\",\"ham\",\"ham\",\"ham\",\"ham\",\"ham\",\"ham\",\"ham\",\"ham\",\"ham\",\"ham\",\"ham\",\"ham\",\"ham\",\"ham\",\"ham\",\"ham\",\"ham\",\"ham\",\"ham\",\"ham\",\"ham\",\"ham\",\"ham\",\"ham\",\"ham\",\"ham\",\"ham\",\"ham\",\"ham\",\"ham\",\"ham\",\"ham\",\"ham\",\"ham\",\"ham\",\"ham\",\"ham\",\"ham\",\"ham\",\"ham\",\"ham\",\"ham\",\"ham\",\"ham\",\"ham\",\"ham\",\"ham\",\"ham\",\"ham\",\"ham\",\"ham\",\"ham\",\"ham\",\"ham\",\"ham\",\"ham\",\"ham\",\"ham\",\"ham\",\"ham\",\"ham\",\"ham\",\"ham\",\"ham\",\"ham\",\"ham\",\"ham\",\"ham\",\"ham\",\"ham\",\"ham\",\"ham\",\"ham\",\"ham\",\"ham\",\"ham\",\"ham\",\"ham\",\"ham\",\"ham\",\"ham\",\"ham\",\"ham\",\"ham\",\"ham\",\"ham\",\"ham\",\"ham\",\"ham\",\"ham\",\"ham\",\"ham\",\"ham\",\"ham\",\"ham\",\"ham\",\"ham\",\"ham\",\"ham\",\"ham\",\"ham\",\"ham\",\"ham\",\"ham\",\"ham\",\"ham\",\"ham\",\"ham\",\"ham\",\"ham\",\"ham\",\"ham\",\"ham\",\"ham\",\"ham\",\"ham\",\"ham\",\"ham\",\"ham\",\"ham\",\"ham\",\"ham\",\"ham\",\"ham\",\"ham\",\"ham\",\"ham\",\"ham\",\"ham\",\"ham\",\"ham\",\"ham\",\"ham\",\"ham\",\"ham\",\"ham\",\"ham\",\"ham\",\"ham\",\"ham\",\"ham\",\"ham\",\"ham\",\"ham\",\"ham\",\"ham\",\"ham\",\"ham\",\"ham\",\"ham\",\"ham\",\"ham\",\"ham\",\"ham\",\"ham\",\"ham\",\"ham\",\"ham\",\"ham\",\"ham\",\"ham\",\"ham\",\"ham\",\"ham\",\"ham\",\"ham\",\"ham\",\"ham\",\"ham\",\"ham\",\"ham\",\"ham\",\"ham\",\"ham\",\"ham\",\"ham\",\"ham\",\"ham\",\"ham\",\"ham\",\"ham\",\"ham\",\"ham\",\"ham\",\"ham\",\"ham\",\"ham\",\"ham\",\"ham\",\"ham\",\"ham\",\"ham\",\"ham\",\"ham\",\"ham\",\"ham\",\"ham\",\"ham\",\"ham\",\"ham\",\"ham\",\"ham\",\"ham\",\"ham\",\"ham\",\"ham\",\"ham\",\"ham\",\"ham\",\"ham\",\"ham\",\"ham\",\"ham\",\"ham\",\"ham\",\"ham\",\"ham\",\"ham\",\"ham\",\"ham\",\"ham\",\"ham\",\"ham\",\"ham\",\"ham\",\"ham\",\"ham\",\"ham\",\"ham\",\"ham\",\"ham\",\"ham\",\"ham\",\"ham\",\"ham\",\"ham\",\"ham\",\"ham\",\"ham\",\"ham\",\"ham\",\"ham\",\"ham\",\"ham\",\"ham\",\"ham\",\"ham\",\"ham\",\"ham\",\"ham\",\"ham\",\"ham\",\"ham\",\"ham\",\"ham\",\"ham\",\"ham\",\"ham\",\"ham\",\"ham\",\"ham\",\"ham\",\"ham\",\"ham\",\"ham\",\"ham\",\"ham\",\"ham\",\"ham\",\"ham\",\"ham\",\"ham\",\"ham\",\"ham\",\"ham\",\"ham\",\"ham\",\"ham\",\"ham\",\"ham\",\"ham\",\"ham\",\"ham\",\"ham\",\"ham\",\"ham\",\"ham\",\"ham\",\"ham\",\"ham\",\"ham\",\"ham\",\"ham\",\"ham\",\"ham\",\"ham\",\"ham\",\"ham\",\"ham\",\"ham\",\"ham\",\"ham\",\"ham\",\"ham\",\"ham\",\"ham\",\"ham\",\"ham\",\"ham\",\"ham\",\"ham\",\"ham\",\"ham\",\"ham\",\"ham\",\"ham\",\"ham\",\"ham\",\"ham\",\"ham\",\"ham\",\"ham\",\"ham\",\"ham\",\"ham\",\"ham\",\"ham\",\"ham\",\"ham\",\"ham\",\"ham\",\"ham\",\"ham\",\"ham\",\"ham\",\"ham\",\"ham\",\"ham\",\"ham\",\"ham\",\"ham\",\"ham\",\"ham\",\"ham\",\"ham\",\"ham\",\"ham\",\"ham\",\"ham\",\"ham\",\"ham\",\"ham\",\"ham\",\"ham\",\"ham\",\"ham\",\"ham\",\"ham\",\"ham\",\"ham\",\"ham\",\"ham\",\"ham\",\"ham\",\"ham\",\"ham\",\"ham\",\"ham\",\"ham\",\"ham\",\"ham\",\"ham\",\"ham\",\"ham\",\"ham\",\"ham\",\"ham\",\"ham\",\"ham\",\"ham\",\"ham\",\"ham\",\"ham\",\"ham\",\"ham\",\"ham\",\"ham\",\"ham\",\"ham\",\"ham\",\"ham\",\"ham\",\"ham\",\"ham\",\"ham\",\"ham\",\"ham\",\"ham\",\"ham\",\"ham\",\"ham\",\"ham\",\"ham\",\"ham\",\"ham\",\"ham\",\"ham\",\"ham\",\"ham\",\"ham\",\"ham\",\"ham\",\"ham\",\"ham\",\"ham\",\"ham\",\"ham\",\"ham\",\"ham\",\"ham\",\"ham\",\"ham\",\"ham\",\"ham\",\"ham\",\"ham\",\"ham\",\"ham\",\"ham\",\"ham\",\"ham\",\"ham\",\"ham\",\"ham\",\"ham\",\"ham\",\"ham\",\"ham\",\"ham\",\"ham\",\"ham\",\"ham\",\"ham\",\"ham\",\"ham\",\"ham\",\"ham\",\"ham\",\"ham\",\"ham\",\"ham\",\"ham\",\"ham\",\"ham\",\"ham\",\"ham\",\"ham\",\"ham\",\"ham\",\"ham\",\"ham\",\"ham\",\"ham\",\"ham\",\"ham\",\"ham\",\"ham\",\"ham\",\"ham\",\"ham\",\"ham\",\"ham\",\"ham\",\"ham\",\"ham\",\"ham\",\"ham\",\"ham\",\"ham\",\"ham\",\"ham\",\"ham\",\"ham\",\"ham\",\"ham\",\"ham\",\"ham\",\"ham\",\"ham\",\"ham\",\"ham\",\"ham\",\"ham\",\"ham\",\"ham\",\"ham\",\"ham\",\"ham\",\"ham\",\"ham\",\"ham\",\"ham\",\"ham\",\"ham\",\"ham\",\"ham\",\"ham\",\"ham\",\"ham\",\"ham\",\"ham\",\"ham\",\"ham\",\"ham\",\"ham\",\"ham\",\"ham\",\"ham\",\"ham\",\"ham\",\"ham\",\"ham\",\"ham\",\"ham\",\"ham\",\"ham\",\"ham\",\"ham\",\"ham\",\"ham\",\"ham\",\"ham\",\"ham\",\"ham\",\"ham\",\"ham\",\"ham\",\"ham\",\"ham\",\"ham\",\"ham\",\"ham\",\"ham\",\"ham\",\"ham\",\"ham\",\"ham\",\"ham\",\"ham\",\"ham\",\"ham\",\"ham\",\"ham\",\"ham\",\"ham\",\"ham\",\"ham\",\"ham\",\"ham\",\"ham\",\"ham\",\"ham\",\"ham\",\"ham\",\"ham\",\"ham\",\"ham\",\"ham\",\"ham\",\"ham\",\"ham\",\"ham\",\"ham\",\"ham\",\"ham\",\"ham\",\"ham\",\"ham\",\"ham\",\"ham\",\"ham\",\"ham\",\"ham\",\"ham\",\"ham\",\"ham\",\"ham\",\"ham\",\"ham\",\"ham\",\"ham\",\"ham\",\"ham\",\"ham\",\"ham\",\"ham\",\"ham\",\"ham\",\"ham\",\"ham\",\"ham\",\"ham\",\"ham\",\"ham\",\"ham\",\"ham\",\"ham\",\"ham\",\"ham\",\"ham\",\"ham\",\"ham\",\"ham\",\"ham\",\"ham\",\"ham\",\"ham\",\"ham\",\"ham\",\"ham\",\"ham\",\"ham\",\"ham\",\"ham\",\"ham\",\"ham\",\"ham\",\"ham\",\"ham\",\"ham\",\"ham\",\"ham\",\"ham\",\"ham\",\"ham\",\"ham\",\"ham\",\"ham\",\"ham\",\"ham\",\"ham\",\"ham\",\"ham\",\"ham\",\"ham\",\"ham\",\"ham\",\"ham\",\"ham\",\"ham\",\"ham\",\"ham\",\"ham\",\"ham\",\"ham\",\"ham\",\"ham\",\"ham\",\"ham\",\"ham\",\"ham\",\"ham\",\"ham\",\"ham\",\"ham\",\"ham\",\"ham\",\"ham\",\"ham\",\"ham\",\"ham\",\"ham\",\"ham\",\"ham\",\"ham\",\"ham\",\"ham\",\"ham\",\"ham\",\"ham\",\"ham\",\"ham\",\"ham\",\"ham\",\"ham\",\"ham\",\"ham\",\"ham\",\"ham\",\"ham\",\"ham\",\"ham\",\"ham\",\"ham\",\"ham\",\"ham\",\"ham\",\"ham\",\"ham\",\"ham\",\"ham\",\"ham\",\"ham\",\"ham\",\"ham\",\"ham\",\"ham\",\"ham\",\"ham\",\"ham\",\"ham\",\"ham\",\"ham\",\"ham\",\"ham\",\"ham\",\"ham\",\"ham\",\"ham\",\"ham\",\"ham\",\"ham\",\"ham\",\"ham\",\"ham\",\"ham\",\"ham\",\"ham\",\"ham\",\"ham\",\"ham\",\"ham\",\"ham\",\"ham\",\"ham\",\"ham\",\"ham\",\"ham\",\"ham\",\"ham\",\"ham\",\"ham\",\"ham\",\"ham\",\"ham\",\"ham\",\"ham\",\"ham\",\"ham\",\"ham\",\"ham\",\"ham\",\"ham\",\"ham\",\"ham\",\"ham\",\"ham\",\"ham\",\"ham\",\"ham\",\"ham\",\"ham\",\"ham\",\"ham\",\"ham\",\"ham\",\"ham\",\"ham\",\"ham\",\"ham\",\"ham\",\"ham\",\"ham\",\"ham\",\"ham\",\"ham\",\"ham\",\"ham\",\"ham\",\"ham\",\"ham\",\"ham\",\"ham\",\"ham\",\"ham\",\"ham\",\"ham\",\"ham\",\"ham\",\"ham\",\"ham\",\"ham\",\"ham\",\"ham\",\"ham\",\"ham\",\"ham\",\"ham\",\"ham\",\"ham\",\"ham\",\"ham\",\"ham\",\"ham\",\"ham\",\"ham\",\"ham\",\"ham\",\"ham\",\"ham\",\"ham\",\"ham\",\"ham\",\"ham\",\"ham\",\"ham\",\"ham\",\"ham\",\"ham\",\"ham\",\"ham\",\"ham\",\"ham\",\"ham\",\"ham\",\"ham\",\"ham\",\"ham\",\"ham\",\"ham\",\"ham\",\"ham\",\"ham\",\"ham\",\"ham\",\"ham\",\"ham\",\"ham\",\"ham\",\"ham\",\"ham\",\"ham\",\"ham\",\"ham\",\"ham\",\"ham\",\"ham\",\"ham\",\"ham\",\"ham\",\"ham\",\"ham\",\"ham\",\"ham\",\"ham\",\"ham\",\"ham\",\"ham\",\"ham\",\"ham\",\"ham\",\"ham\",\"ham\",\"ham\",\"ham\",\"ham\",\"ham\",\"ham\",\"ham\",\"ham\",\"ham\",\"ham\",\"ham\",\"ham\",\"ham\",\"ham\",\"ham\",\"ham\",\"ham\",\"ham\",\"ham\",\"ham\",\"ham\",\"ham\",\"ham\",\"ham\",\"ham\",\"ham\",\"ham\",\"ham\",\"ham\",\"ham\",\"ham\",\"ham\",\"ham\",\"ham\",\"ham\",\"ham\",\"ham\",\"ham\",\"ham\",\"ham\",\"ham\",\"ham\",\"ham\",\"ham\",\"ham\",\"ham\",\"ham\",\"ham\",\"ham\",\"ham\",\"ham\",\"ham\",\"ham\",\"ham\",\"ham\",\"ham\",\"ham\",\"ham\",\"ham\",\"ham\",\"ham\",\"ham\",\"ham\",\"ham\",\"ham\",\"ham\",\"ham\",\"ham\",\"ham\",\"ham\",\"ham\",\"ham\",\"ham\",\"ham\",\"ham\",\"ham\",\"ham\",\"ham\",\"ham\",\"ham\",\"ham\",\"ham\",\"ham\",\"ham\",\"ham\",\"ham\",\"ham\",\"ham\",\"ham\",\"ham\",\"ham\",\"ham\",\"ham\",\"ham\",\"ham\",\"ham\",\"ham\",\"ham\",\"ham\",\"ham\",\"ham\",\"ham\",\"ham\",\"ham\",\"ham\",\"ham\",\"ham\",\"ham\",\"ham\",\"ham\",\"ham\",\"ham\",\"ham\",\"ham\",\"ham\",\"ham\",\"ham\",\"ham\",\"ham\",\"ham\",\"ham\",\"ham\",\"ham\",\"ham\",\"ham\",\"ham\",\"ham\",\"ham\",\"ham\",\"ham\",\"ham\",\"ham\",\"ham\",\"ham\",\"ham\",\"ham\",\"ham\",\"ham\",\"ham\",\"ham\",\"ham\",\"ham\",\"ham\",\"ham\",\"ham\",\"ham\",\"ham\",\"ham\",\"ham\",\"ham\",\"ham\",\"ham\",\"ham\",\"ham\",\"ham\",\"ham\",\"ham\",\"ham\",\"ham\",\"ham\",\"ham\",\"ham\",\"ham\",\"ham\",\"ham\",\"ham\",\"ham\",\"ham\",\"ham\",\"ham\",\"ham\",\"ham\",\"ham\",\"ham\",\"ham\",\"ham\",\"ham\",\"ham\",\"ham\",\"ham\",\"ham\",\"ham\",\"ham\",\"ham\",\"ham\",\"ham\",\"ham\",\"ham\",\"ham\",\"ham\",\"ham\",\"ham\",\"ham\",\"ham\",\"ham\",\"ham\",\"ham\",\"ham\",\"ham\",\"ham\",\"ham\",\"ham\",\"ham\",\"ham\",\"ham\",\"ham\",\"ham\",\"ham\",\"ham\",\"ham\",\"ham\",\"ham\",\"ham\",\"ham\",\"ham\",\"ham\",\"ham\",\"ham\",\"ham\",\"ham\",\"ham\",\"ham\",\"ham\",\"ham\",\"ham\",\"ham\",\"ham\",\"ham\",\"ham\",\"ham\",\"ham\",\"ham\",\"ham\",\"ham\",\"ham\",\"ham\",\"ham\",\"ham\",\"ham\",\"ham\",\"ham\",\"ham\",\"ham\",\"ham\",\"ham\",\"ham\",\"ham\",\"ham\",\"ham\",\"ham\",\"ham\",\"ham\",\"ham\",\"ham\",\"ham\",\"ham\",\"ham\",\"ham\",\"ham\",\"ham\",\"ham\",\"ham\",\"ham\",\"ham\",\"ham\",\"ham\",\"ham\",\"ham\",\"ham\",\"ham\",\"ham\",\"ham\",\"ham\",\"ham\",\"ham\",\"ham\",\"ham\",\"ham\",\"ham\",\"ham\",\"ham\",\"ham\",\"ham\",\"ham\",\"ham\",\"ham\",\"ham\",\"ham\",\"ham\",\"ham\",\"ham\",\"ham\",\"ham\",\"ham\",\"ham\",\"ham\",\"ham\",\"ham\",\"ham\",\"ham\",\"ham\",\"ham\",\"ham\",\"ham\",\"ham\",\"ham\",\"ham\",\"ham\",\"ham\",\"ham\",\"ham\",\"ham\",\"ham\",\"ham\",\"ham\",\"ham\",\"ham\",\"ham\",\"ham\",\"ham\",\"ham\",\"ham\",\"ham\",\"ham\",\"ham\",\"ham\",\"ham\",\"ham\",\"ham\",\"ham\",\"ham\",\"ham\",\"ham\",\"ham\",\"ham\",\"ham\",\"ham\",\"ham\",\"ham\",\"ham\",\"ham\",\"ham\",\"ham\",\"ham\",\"ham\",\"ham\",\"ham\",\"ham\",\"ham\",\"ham\",\"ham\",\"ham\",\"ham\",\"ham\",\"ham\",\"ham\",\"ham\",\"ham\",\"ham\",\"ham\",\"ham\",\"ham\",\"ham\",\"ham\",\"ham\",\"ham\",\"ham\",\"ham\",\"ham\",\"ham\",\"ham\",\"ham\",\"ham\",\"ham\",\"ham\",\"ham\",\"ham\",\"ham\",\"ham\",\"ham\",\"ham\",\"ham\",\"ham\",\"ham\",\"ham\",\"ham\",\"ham\",\"ham\",\"ham\",\"ham\",\"ham\",\"ham\",\"ham\",\"ham\",\"ham\",\"ham\",\"ham\",\"ham\",\"ham\",\"ham\",\"ham\",\"ham\",\"ham\",\"ham\",\"ham\",\"ham\",\"ham\",\"ham\",\"ham\",\"ham\",\"ham\",\"ham\",\"ham\",\"ham\",\"ham\",\"ham\",\"ham\",\"ham\",\"ham\",\"ham\",\"ham\",\"ham\",\"ham\",\"ham\",\"ham\",\"ham\",\"ham\",\"ham\",\"ham\",\"ham\",\"ham\",\"ham\",\"ham\",\"ham\",\"ham\",\"ham\",\"ham\",\"ham\",\"ham\",\"ham\",\"ham\",\"ham\",\"ham\",\"ham\",\"ham\",\"ham\",\"ham\",\"ham\",\"ham\",\"ham\",\"ham\",\"ham\",\"ham\",\"ham\",\"ham\",\"ham\",\"ham\",\"ham\",\"ham\",\"ham\",\"ham\",\"ham\",\"ham\",\"ham\",\"ham\",\"ham\",\"ham\",\"ham\",\"ham\",\"ham\",\"ham\",\"ham\",\"ham\",\"ham\",\"ham\",\"ham\",\"ham\",\"ham\",\"ham\",\"ham\",\"ham\",\"ham\",\"ham\",\"ham\",\"ham\",\"ham\",\"ham\",\"ham\",\"ham\",\"ham\",\"ham\",\"ham\",\"ham\",\"ham\",\"ham\",\"ham\",\"ham\",\"ham\",\"ham\",\"ham\",\"ham\",\"ham\",\"ham\",\"ham\",\"ham\",\"ham\",\"ham\",\"ham\",\"ham\",\"ham\",\"ham\",\"ham\",\"ham\",\"ham\",\"ham\",\"ham\",\"ham\",\"ham\",\"ham\",\"ham\",\"ham\",\"ham\",\"ham\",\"ham\",\"ham\",\"ham\",\"ham\",\"ham\",\"ham\",\"ham\",\"ham\",\"ham\",\"ham\",\"ham\",\"ham\",\"ham\",\"ham\",\"ham\",\"ham\",\"ham\",\"ham\",\"ham\",\"ham\",\"ham\",\"ham\",\"ham\",\"ham\",\"ham\",\"ham\",\"ham\",\"ham\",\"ham\",\"ham\",\"ham\",\"ham\",\"ham\",\"ham\",\"ham\",\"ham\",\"ham\",\"ham\",\"ham\",\"ham\",\"ham\",\"ham\",\"ham\",\"ham\",\"ham\",\"ham\",\"ham\",\"ham\",\"ham\",\"ham\",\"ham\",\"ham\",\"ham\",\"ham\",\"ham\",\"ham\",\"ham\",\"ham\",\"ham\",\"ham\",\"ham\",\"ham\",\"ham\",\"ham\",\"ham\",\"ham\",\"ham\",\"ham\",\"ham\",\"ham\",\"ham\",\"ham\",\"ham\",\"ham\",\"ham\",\"ham\",\"ham\",\"ham\",\"ham\",\"ham\",\"ham\",\"ham\",\"ham\",\"ham\",\"ham\",\"ham\",\"ham\",\"ham\",\"ham\",\"ham\",\"ham\",\"ham\",\"ham\",\"ham\",\"ham\",\"ham\",\"ham\",\"ham\",\"ham\",\"ham\",\"ham\",\"ham\",\"ham\",\"ham\",\"ham\",\"ham\",\"ham\",\"ham\",\"ham\",\"ham\",\"ham\",\"ham\",\"ham\",\"ham\",\"ham\",\"ham\",\"ham\",\"ham\",\"ham\",\"ham\",\"ham\",\"ham\",\"ham\",\"ham\",\"ham\",\"ham\",\"ham\",\"ham\",\"ham\",\"ham\",\"ham\",\"ham\",\"ham\",\"ham\",\"ham\",\"ham\",\"ham\",\"ham\",\"ham\",\"ham\",\"ham\",\"ham\",\"ham\",\"ham\",\"ham\",\"ham\",\"ham\",\"ham\",\"ham\",\"ham\",\"ham\",\"ham\",\"ham\",\"ham\",\"ham\",\"ham\",\"ham\",\"ham\",\"ham\",\"ham\",\"ham\",\"ham\",\"ham\",\"ham\",\"ham\",\"ham\",\"ham\",\"ham\",\"ham\",\"ham\",\"ham\",\"ham\",\"ham\",\"ham\",\"ham\",\"ham\",\"ham\",\"ham\",\"ham\",\"ham\",\"ham\",\"ham\",\"ham\",\"ham\",\"ham\",\"ham\",\"ham\",\"ham\",\"ham\",\"ham\",\"ham\",\"ham\",\"ham\",\"ham\",\"ham\",\"ham\",\"ham\",\"ham\",\"ham\",\"ham\",\"ham\",\"ham\",\"ham\",\"ham\",\"ham\",\"ham\",\"ham\",\"ham\",\"ham\",\"ham\",\"ham\",\"ham\",\"ham\",\"ham\",\"ham\",\"ham\",\"ham\",\"ham\",\"ham\",\"ham\",\"ham\",\"ham\",\"ham\",\"ham\",\"ham\",\"ham\",\"ham\",\"ham\",\"ham\",\"ham\",\"ham\",\"ham\",\"ham\",\"ham\",\"ham\",\"ham\",\"ham\",\"ham\",\"ham\",\"ham\",\"ham\",\"ham\",\"ham\",\"ham\",\"ham\",\"ham\",\"ham\",\"ham\",\"ham\",\"ham\",\"ham\",\"ham\",\"ham\",\"ham\",\"ham\",\"ham\",\"ham\",\"ham\",\"ham\",\"ham\",\"ham\",\"ham\",\"ham\",\"ham\",\"ham\",\"ham\",\"ham\",\"ham\",\"ham\",\"ham\",\"ham\",\"ham\",\"ham\",\"ham\",\"ham\",\"ham\",\"ham\",\"ham\",\"ham\",\"ham\",\"ham\",\"ham\",\"ham\",\"ham\",\"ham\",\"ham\",\"ham\",\"ham\",\"ham\",\"ham\",\"ham\",\"ham\",\"ham\",\"ham\",\"ham\",\"ham\",\"ham\",\"ham\",\"ham\",\"ham\",\"ham\",\"ham\",\"ham\",\"ham\",\"ham\",\"ham\",\"ham\",\"ham\",\"ham\",\"ham\",\"ham\",\"ham\",\"ham\",\"ham\",\"ham\",\"ham\",\"ham\",\"ham\",\"ham\",\"ham\",\"ham\",\"ham\",\"ham\",\"ham\",\"ham\",\"ham\",\"ham\",\"ham\",\"ham\",\"ham\",\"ham\",\"ham\",\"ham\",\"ham\",\"ham\",\"ham\",\"ham\",\"ham\",\"ham\",\"ham\",\"ham\",\"ham\",\"ham\",\"ham\",\"ham\",\"ham\",\"ham\",\"ham\",\"ham\",\"ham\",\"ham\",\"ham\",\"ham\",\"ham\",\"ham\",\"ham\",\"ham\",\"ham\",\"ham\",\"ham\",\"ham\",\"ham\",\"ham\",\"ham\",\"ham\",\"ham\",\"ham\",\"ham\",\"ham\",\"ham\",\"ham\",\"ham\",\"ham\",\"ham\",\"ham\",\"ham\",\"ham\",\"ham\",\"ham\",\"ham\",\"ham\",\"ham\",\"ham\",\"ham\",\"ham\",\"ham\",\"ham\",\"ham\",\"ham\",\"ham\",\"ham\",\"ham\",\"ham\",\"ham\",\"ham\",\"ham\",\"ham\",\"ham\",\"ham\",\"ham\",\"ham\",\"ham\",\"ham\",\"ham\",\"ham\",\"ham\",\"ham\",\"ham\",\"ham\",\"ham\",\"ham\",\"ham\",\"ham\",\"ham\",\"ham\",\"ham\",\"ham\",\"ham\",\"ham\",\"ham\",\"ham\",\"ham\",\"ham\",\"ham\",\"ham\",\"ham\",\"ham\",\"ham\",\"ham\",\"ham\",\"ham\",\"ham\",\"ham\",\"ham\",\"ham\",\"ham\",\"ham\",\"ham\",\"ham\",\"ham\",\"ham\",\"ham\",\"ham\",\"ham\",\"ham\",\"ham\",\"ham\",\"ham\",\"ham\",\"ham\",\"ham\",\"ham\",\"ham\",\"ham\",\"ham\",\"ham\",\"ham\",\"ham\",\"ham\",\"ham\",\"ham\",\"ham\",\"ham\",\"ham\",\"ham\",\"ham\",\"ham\",\"ham\",\"ham\",\"ham\",\"ham\",\"ham\",\"ham\",\"ham\",\"ham\",\"ham\",\"ham\",\"ham\",\"ham\",\"ham\",\"ham\",\"ham\",\"ham\",\"ham\",\"ham\",\"ham\",\"ham\",\"ham\",\"ham\",\"ham\",\"ham\",\"ham\",\"ham\",\"ham\",\"ham\",\"ham\",\"ham\",\"ham\",\"ham\",\"ham\",\"ham\",\"ham\",\"ham\",\"ham\",\"ham\",\"ham\",\"ham\",\"ham\",\"ham\",\"ham\",\"ham\",\"ham\",\"ham\",\"ham\",\"ham\",\"ham\",\"ham\",\"ham\",\"ham\",\"ham\",\"ham\",\"ham\",\"ham\",\"ham\",\"ham\",\"ham\",\"ham\",\"ham\",\"ham\",\"ham\",\"ham\",\"ham\",\"ham\",\"ham\",\"ham\",\"ham\",\"ham\",\"ham\",\"ham\",\"ham\",\"ham\",\"ham\",\"ham\",\"ham\",\"ham\",\"ham\",\"ham\",\"ham\",\"ham\",\"ham\",\"ham\",\"ham\",\"ham\",\"ham\",\"ham\",\"ham\",\"ham\",\"ham\",\"ham\",\"ham\",\"ham\",\"ham\",\"ham\",\"ham\",\"ham\",\"ham\",\"ham\",\"ham\",\"ham\",\"ham\",\"ham\",\"ham\",\"ham\",\"ham\",\"ham\",\"ham\",\"ham\",\"ham\",\"ham\",\"ham\",\"ham\",\"ham\",\"ham\",\"ham\",\"ham\",\"ham\",\"ham\",\"ham\",\"ham\",\"ham\",\"ham\",\"ham\",\"ham\",\"ham\",\"ham\",\"ham\",\"ham\",\"ham\",\"ham\",\"ham\",\"ham\",\"ham\",\"ham\",\"ham\",\"ham\",\"ham\",\"ham\",\"ham\",\"ham\",\"ham\",\"ham\",\"ham\",\"ham\",\"ham\",\"ham\",\"ham\",\"ham\",\"ham\",\"ham\",\"ham\",\"ham\",\"ham\",\"ham\",\"ham\",\"ham\",\"ham\",\"ham\",\"ham\",\"ham\",\"ham\",\"ham\",\"ham\",\"ham\",\"ham\",\"ham\",\"ham\",\"ham\",\"ham\",\"ham\",\"ham\",\"ham\",\"ham\",\"ham\",\"ham\",\"ham\",\"ham\",\"ham\",\"ham\",\"ham\",\"ham\",\"ham\",\"ham\",\"ham\",\"ham\",\"ham\",\"ham\",\"ham\",\"ham\",\"ham\",\"ham\",\"ham\",\"ham\",\"ham\",\"ham\",\"ham\",\"ham\",\"ham\",\"ham\",\"ham\",\"ham\",\"ham\",\"ham\",\"ham\",\"ham\",\"ham\",\"ham\",\"ham\",\"ham\",\"ham\",\"ham\",\"ham\",\"ham\",\"ham\",\"ham\",\"ham\",\"ham\",\"ham\",\"ham\",\"ham\",\"ham\",\"ham\",\"ham\",\"ham\",\"ham\",\"ham\",\"ham\",\"ham\",\"ham\",\"ham\",\"ham\",\"ham\",\"ham\",\"ham\",\"ham\",\"ham\",\"ham\",\"ham\",\"ham\",\"ham\",\"ham\",\"ham\",\"ham\",\"ham\",\"ham\",\"ham\",\"ham\",\"ham\",\"ham\",\"ham\",\"ham\",\"ham\",\"ham\",\"ham\",\"ham\",\"ham\",\"ham\",\"ham\",\"ham\",\"ham\",\"ham\",\"ham\",\"ham\",\"ham\",\"ham\",\"ham\",\"ham\",\"ham\",\"ham\",\"ham\",\"ham\",\"ham\",\"ham\",\"ham\",\"ham\",\"ham\",\"ham\",\"ham\",\"ham\",\"ham\",\"ham\",\"ham\",\"ham\",\"ham\",\"ham\",\"ham\",\"ham\",\"ham\",\"ham\",\"ham\",\"ham\",\"ham\",\"ham\",\"ham\",\"ham\",\"ham\",\"ham\",\"ham\",\"ham\",\"ham\",\"ham\",\"ham\",\"ham\",\"ham\",\"ham\",\"ham\",\"ham\",\"ham\",\"ham\",\"ham\",\"ham\",\"ham\",\"ham\",\"ham\",\"ham\",\"ham\",\"ham\",\"ham\",\"ham\",\"ham\",\"ham\",\"ham\",\"ham\",\"ham\",\"ham\",\"ham\",\"ham\",\"ham\",\"ham\",\"ham\",\"ham\",\"ham\",\"ham\",\"ham\",\"ham\",\"ham\",\"ham\",\"ham\",\"ham\",\"ham\",\"ham\",\"ham\",\"ham\",\"ham\",\"ham\",\"ham\",\"ham\",\"ham\",\"ham\",\"ham\",\"ham\",\"ham\",\"ham\",\"ham\",\"ham\",\"ham\",\"ham\",\"ham\",\"ham\",\"ham\",\"ham\",\"ham\",\"ham\",\"ham\",\"ham\",\"ham\",\"ham\",\"ham\",\"ham\",\"ham\",\"ham\",\"ham\",\"ham\",\"ham\",\"ham\",\"ham\",\"ham\",\"ham\",\"ham\",\"ham\",\"ham\",\"ham\",\"ham\",\"ham\",\"ham\",\"ham\",\"ham\",\"ham\",\"ham\",\"ham\",\"ham\",\"ham\",\"ham\",\"ham\",\"ham\",\"ham\",\"ham\",\"ham\",\"ham\",\"ham\",\"ham\",\"ham\",\"ham\",\"ham\",\"ham\",\"ham\",\"ham\",\"ham\",\"ham\",\"ham\",\"ham\",\"ham\",\"ham\",\"ham\",\"ham\",\"ham\",\"ham\",\"ham\",\"ham\",\"ham\",\"ham\",\"ham\",\"ham\",\"ham\",\"ham\",\"ham\",\"ham\",\"ham\",\"ham\",\"ham\",\"ham\",\"ham\",\"ham\",\"ham\",\"ham\",\"ham\",\"ham\",\"ham\",\"ham\",\"ham\",\"ham\",\"ham\",\"ham\",\"ham\",\"ham\",\"ham\",\"ham\",\"ham\",\"ham\",\"ham\",\"ham\",\"ham\",\"ham\",\"ham\",\"ham\",\"ham\",\"ham\",\"ham\",\"ham\",\"ham\",\"ham\",\"ham\",\"ham\",\"ham\",\"ham\",\"ham\",\"ham\",\"ham\",\"ham\",\"ham\",\"ham\",\"ham\",\"ham\",\"ham\",\"ham\",\"ham\",\"ham\",\"ham\",\"ham\",\"ham\",\"ham\",\"ham\",\"ham\",\"ham\",\"ham\",\"ham\",\"ham\",\"ham\",\"ham\",\"ham\",\"ham\",\"ham\",\"ham\",\"ham\",\"ham\",\"ham\",\"ham\",\"ham\",\"ham\",\"ham\",\"ham\",\"ham\",\"ham\",\"ham\",\"ham\",\"ham\",\"ham\",\"ham\",\"ham\",\"ham\",\"ham\",\"ham\",\"ham\",\"ham\",\"ham\",\"ham\",\"ham\",\"ham\",\"ham\",\"ham\",\"ham\",\"ham\",\"ham\",\"ham\",\"ham\",\"ham\",\"ham\",\"ham\",\"ham\",\"ham\",\"ham\",\"ham\",\"ham\",\"ham\",\"ham\",\"ham\",\"ham\",\"ham\",\"ham\",\"ham\",\"ham\",\"ham\",\"ham\",\"ham\",\"ham\",\"ham\",\"ham\",\"ham\",\"ham\",\"ham\",\"ham\",\"ham\",\"ham\",\"ham\",\"ham\",\"ham\",\"ham\",\"ham\",\"ham\",\"ham\",\"ham\",\"ham\",\"ham\",\"ham\",\"ham\",\"ham\",\"ham\",\"ham\",\"ham\",\"ham\",\"ham\",\"ham\",\"ham\",\"ham\",\"ham\",\"ham\",\"ham\",\"ham\",\"ham\",\"ham\",\"ham\",\"ham\",\"ham\",\"ham\",\"ham\",\"ham\",\"ham\",\"ham\",\"ham\",\"ham\",\"ham\",\"ham\",\"ham\",\"ham\",\"ham\",\"ham\",\"ham\",\"ham\",\"ham\",\"ham\",\"ham\",\"ham\",\"ham\",\"ham\",\"ham\",\"ham\",\"ham\",\"ham\",\"ham\",\"ham\",\"ham\",\"ham\",\"ham\",\"ham\",\"ham\",\"ham\",\"ham\",\"ham\",\"ham\",\"ham\",\"ham\",\"ham\",\"ham\",\"ham\",\"ham\",\"ham\",\"ham\",\"ham\",\"ham\",\"ham\",\"ham\",\"ham\",\"ham\",\"ham\",\"ham\",\"ham\",\"ham\",\"ham\",\"ham\",\"ham\",\"ham\",\"ham\",\"ham\",\"ham\",\"ham\",\"ham\",\"ham\",\"ham\",\"ham\",\"ham\",\"ham\",\"ham\",\"ham\",\"ham\",\"ham\",\"ham\",\"ham\",\"ham\",\"ham\",\"ham\",\"ham\",\"ham\",\"ham\",\"ham\",\"ham\",\"ham\",\"ham\",\"ham\",\"ham\",\"ham\",\"ham\",\"ham\",\"ham\",\"ham\",\"ham\",\"ham\",\"ham\",\"ham\",\"ham\",\"ham\",\"ham\",\"ham\",\"ham\",\"ham\",\"ham\",\"ham\",\"ham\",\"ham\",\"ham\",\"ham\",\"ham\",\"ham\",\"ham\",\"ham\",\"ham\",\"ham\",\"ham\",\"ham\",\"ham\",\"ham\",\"ham\",\"ham\",\"ham\",\"ham\",\"ham\",\"ham\",\"ham\",\"ham\",\"ham\",\"ham\",\"ham\",\"ham\",\"ham\",\"ham\",\"ham\",\"ham\",\"ham\",\"ham\",\"ham\",\"ham\",\"ham\",\"ham\",\"ham\",\"ham\",\"ham\",\"ham\",\"ham\",\"ham\",\"ham\",\"ham\",\"ham\",\"ham\",\"ham\",\"ham\",\"ham\",\"ham\",\"ham\",\"ham\",\"ham\",\"ham\",\"ham\",\"ham\",\"ham\",\"ham\",\"ham\",\"ham\",\"ham\",\"ham\",\"ham\",\"ham\",\"ham\",\"ham\",\"ham\",\"ham\",\"ham\",\"ham\",\"ham\",\"ham\",\"ham\",\"ham\",\"ham\",\"ham\",\"ham\",\"ham\",\"ham\",\"ham\",\"ham\",\"ham\",\"ham\",\"ham\",\"ham\",\"ham\",\"ham\",\"ham\",\"ham\",\"ham\",\"ham\",\"ham\",\"ham\",\"ham\",\"ham\",\"ham\",\"ham\",\"ham\",\"ham\",\"ham\",\"ham\",\"ham\",\"ham\",\"ham\",\"ham\",\"ham\",\"ham\",\"ham\",\"ham\",\"ham\",\"ham\",\"ham\",\"ham\",\"ham\",\"ham\",\"ham\",\"ham\",\"ham\",\"ham\",\"ham\",\"ham\",\"ham\",\"ham\",\"ham\",\"ham\",\"ham\",\"ham\",\"ham\",\"ham\",\"ham\",\"ham\",\"ham\",\"ham\",\"ham\",\"ham\",\"ham\",\"ham\",\"ham\",\"ham\",\"ham\",\"ham\",\"ham\",\"ham\",\"ham\",\"ham\",\"ham\",\"ham\",\"ham\",\"ham\",\"ham\",\"ham\",\"ham\",\"ham\",\"ham\",\"ham\",\"ham\",\"ham\",\"ham\",\"ham\",\"ham\",\"ham\",\"ham\",\"ham\",\"ham\",\"ham\",\"ham\",\"ham\",\"ham\",\"ham\",\"ham\",\"ham\",\"ham\",\"ham\",\"ham\",\"ham\",\"ham\",\"ham\",\"ham\",\"ham\",\"ham\",\"ham\",\"ham\",\"ham\",\"ham\",\"ham\",\"ham\",\"ham\",\"ham\",\"ham\",\"ham\",\"ham\",\"ham\",\"ham\",\"ham\",\"ham\",\"ham\",\"ham\",\"ham\",\"ham\",\"ham\",\"ham\",\"ham\",\"ham\",\"ham\",\"ham\",\"ham\",\"ham\",\"ham\",\"ham\",\"ham\",\"ham\",\"ham\",\"ham\",\"ham\",\"ham\",\"ham\",\"ham\",\"ham\",\"ham\",\"ham\",\"ham\",\"ham\",\"ham\",\"ham\",\"ham\",\"ham\",\"ham\",\"ham\",\"ham\",\"ham\",\"ham\",\"ham\",\"ham\",\"ham\",\"ham\",\"ham\",\"ham\",\"ham\",\"ham\",\"ham\",\"ham\",\"ham\",\"ham\",\"ham\",\"ham\",\"ham\",\"ham\",\"ham\",\"ham\",\"ham\",\"ham\",\"ham\",\"ham\",\"ham\",\"ham\",\"ham\",\"ham\",\"ham\",\"ham\",\"ham\",\"ham\",\"ham\",\"ham\",\"ham\",\"ham\",\"ham\",\"ham\",\"ham\",\"ham\",\"ham\",\"ham\",\"ham\",\"ham\",\"ham\",\"ham\",\"ham\",\"ham\",\"ham\",\"ham\",\"ham\",\"ham\",\"ham\",\"ham\",\"ham\",\"ham\",\"ham\",\"ham\",\"ham\",\"ham\",\"ham\",\"ham\",\"ham\",\"ham\",\"ham\",\"ham\",\"ham\",\"ham\",\"ham\",\"ham\",\"ham\",\"ham\",\"ham\",\"ham\",\"ham\",\"ham\",\"ham\",\"ham\",\"ham\",\"ham\",\"ham\",\"ham\",\"ham\",\"ham\",\"ham\",\"ham\",\"ham\",\"ham\",\"ham\",\"ham\",\"ham\",\"ham\",\"ham\",\"ham\",\"ham\",\"ham\",\"ham\",\"ham\",\"ham\",\"ham\",\"ham\",\"ham\",\"ham\",\"ham\",\"ham\",\"ham\",\"ham\",\"ham\",\"ham\",\"ham\",\"ham\",\"ham\",\"ham\",\"ham\",\"ham\",\"ham\",\"ham\",\"ham\",\"ham\",\"ham\",\"ham\",\"ham\",\"ham\",\"ham\",\"ham\",\"ham\",\"ham\",\"ham\",\"ham\",\"ham\",\"ham\",\"ham\",\"ham\",\"ham\",\"ham\",\"ham\",\"ham\",\"ham\",\"ham\",\"ham\",\"ham\",\"ham\",\"ham\",\"ham\",\"ham\",\"ham\",\"ham\",\"ham\",\"ham\",\"ham\",\"ham\",\"ham\",\"ham\",\"ham\",\"ham\",\"ham\",\"ham\",\"ham\",\"ham\",\"ham\",\"ham\",\"ham\",\"ham\",\"ham\",\"ham\",\"ham\",\"ham\",\"ham\",\"ham\",\"ham\",\"ham\",\"ham\",\"ham\",\"ham\",\"ham\",\"ham\",\"ham\",\"ham\",\"ham\",\"ham\",\"ham\",\"ham\",\"ham\",\"ham\",\"ham\",\"ham\",\"ham\",\"ham\",\"ham\",\"ham\",\"ham\",\"ham\",\"ham\",\"ham\",\"ham\",\"ham\",\"ham\",\"ham\",\"ham\",\"ham\",\"ham\",\"ham\",\"ham\",\"ham\",\"ham\",\"ham\",\"ham\",\"ham\",\"ham\",\"ham\",\"ham\",\"ham\",\"ham\",\"ham\",\"ham\",\"ham\",\"ham\",\"ham\",\"ham\",\"ham\",\"ham\",\"ham\",\"ham\",\"ham\",\"ham\",\"ham\",\"ham\",\"ham\",\"ham\",\"ham\",\"ham\",\"ham\",\"ham\",\"ham\",\"ham\",\"ham\",\"ham\",\"ham\",\"ham\",\"ham\",\"ham\",\"ham\",\"ham\",\"ham\",\"ham\",\"ham\",\"ham\",\"ham\",\"ham\",\"ham\",\"ham\",\"ham\",\"ham\",\"ham\",\"ham\",\"ham\",\"ham\",\"ham\",\"ham\",\"ham\",\"ham\",\"ham\",\"ham\",\"ham\",\"ham\",\"ham\",\"ham\",\"ham\",\"ham\",\"ham\",\"ham\",\"ham\",\"ham\",\"ham\",\"ham\",\"ham\",\"ham\",\"ham\",\"ham\",\"ham\",\"ham\",\"ham\",\"ham\",\"ham\",\"ham\",\"ham\",\"ham\",\"ham\",\"ham\",\"ham\",\"ham\",\"ham\",\"ham\",\"ham\",\"ham\",\"ham\",\"ham\",\"ham\",\"ham\",\"ham\",\"ham\",\"ham\",\"ham\",\"ham\",\"ham\",\"ham\",\"ham\",\"ham\",\"ham\",\"ham\",\"ham\",\"ham\",\"ham\",\"ham\",\"ham\",\"ham\",\"ham\",\"ham\",\"ham\",\"ham\",\"ham\",\"ham\",\"ham\",\"ham\",\"ham\",\"ham\",\"ham\",\"ham\",\"ham\",\"ham\",\"ham\",\"ham\",\"ham\",\"ham\",\"ham\",\"ham\",\"ham\",\"ham\",\"ham\",\"ham\",\"ham\",\"ham\",\"ham\",\"ham\",\"ham\",\"ham\",\"ham\",\"ham\",\"ham\",\"ham\",\"ham\",\"ham\",\"ham\",\"ham\",\"ham\",\"ham\",\"ham\",\"ham\",\"ham\",\"ham\",\"ham\",\"ham\",\"ham\",\"ham\",\"ham\",\"ham\",\"ham\",\"ham\",\"ham\",\"ham\",\"ham\",\"ham\",\"ham\",\"ham\",\"ham\",\"ham\",\"ham\",\"ham\",\"ham\",\"ham\",\"ham\",\"ham\",\"ham\",\"ham\",\"ham\",\"ham\",\"ham\",\"ham\",\"ham\",\"ham\",\"ham\",\"ham\",\"ham\",\"ham\",\"ham\",\"ham\",\"ham\",\"ham\",\"ham\",\"ham\",\"ham\",\"ham\",\"ham\",\"ham\",\"ham\",\"ham\",\"ham\",\"ham\",\"ham\",\"ham\",\"ham\",\"ham\",\"ham\",\"ham\",\"ham\",\"ham\",\"ham\",\"ham\",\"ham\",\"ham\",\"ham\",\"ham\",\"ham\",\"ham\",\"ham\",\"ham\",\"ham\",\"ham\",\"ham\",\"ham\",\"ham\",\"ham\",\"ham\",\"ham\",\"ham\",\"ham\",\"ham\",\"ham\",\"ham\",\"ham\",\"ham\",\"ham\",\"ham\",\"ham\",\"ham\",\"ham\",\"ham\",\"ham\",\"ham\",\"ham\",\"ham\",\"ham\",\"ham\",\"ham\",\"ham\",\"ham\",\"ham\",\"ham\",\"ham\",\"ham\",\"ham\",\"ham\",\"ham\",\"ham\",\"ham\",\"ham\",\"ham\",\"ham\",\"ham\",\"ham\",\"ham\",\"ham\",\"ham\",\"ham\",\"ham\",\"ham\",\"ham\",\"ham\",\"ham\",\"ham\",\"ham\",\"ham\",\"ham\",\"ham\",\"ham\",\"ham\",\"ham\",\"ham\",\"ham\",\"ham\",\"ham\",\"ham\",\"ham\",\"ham\",\"ham\",\"ham\",\"ham\",\"ham\",\"ham\",\"ham\",\"ham\",\"ham\",\"ham\",\"ham\",\"ham\",\"ham\",\"ham\",\"ham\",\"ham\",\"ham\",\"ham\",\"ham\",\"ham\",\"ham\",\"ham\",\"ham\",\"ham\",\"ham\",\"ham\",\"ham\",\"ham\",\"ham\",\"ham\",\"ham\",\"ham\",\"ham\",\"ham\",\"ham\",\"ham\",\"ham\",\"ham\",\"ham\",\"ham\",\"ham\",\"ham\",\"ham\",\"ham\",\"ham\",\"ham\",\"ham\",\"ham\",\"ham\",\"ham\",\"ham\",\"ham\",\"ham\",\"ham\",\"ham\",\"ham\",\"ham\",\"ham\",\"ham\",\"ham\",\"ham\",\"ham\",\"ham\",\"ham\",\"ham\",\"ham\",\"ham\",\"ham\",\"ham\",\"ham\",\"ham\",\"ham\",\"ham\",\"ham\",\"ham\",\"ham\",\"ham\",\"ham\",\"ham\",\"ham\",\"ham\",\"ham\",\"ham\",\"ham\",\"ham\",\"ham\",\"ham\",\"ham\",\"ham\",\"ham\",\"ham\",\"ham\",\"ham\",\"ham\",\"ham\",\"ham\",\"ham\",\"ham\",\"ham\",\"ham\",\"ham\",\"ham\",\"ham\",\"ham\",\"ham\",\"ham\",\"ham\",\"ham\",\"ham\",\"ham\",\"ham\",\"ham\",\"ham\",\"ham\",\"ham\",\"ham\",\"ham\",\"ham\",\"ham\",\"ham\",\"ham\",\"ham\",\"ham\",\"ham\",\"ham\",\"ham\",\"ham\",\"ham\",\"ham\",\"ham\",\"ham\",\"ham\",\"ham\",\"ham\",\"ham\",\"ham\",\"ham\",\"ham\",\"ham\",\"ham\",\"ham\",\"ham\",\"ham\",\"ham\",\"ham\",\"ham\",\"ham\",\"ham\",\"ham\",\"ham\",\"ham\",\"ham\",\"ham\",\"ham\",\"ham\",\"ham\",\"ham\",\"ham\",\"ham\",\"ham\",\"ham\",\"ham\",\"ham\",\"ham\",\"ham\",\"ham\",\"ham\",\"ham\",\"ham\",\"ham\",\"ham\",\"ham\",\"ham\",\"ham\",\"ham\",\"ham\",\"ham\",\"ham\",\"ham\",\"ham\",\"ham\",\"ham\",\"ham\",\"ham\",\"ham\",\"ham\",\"ham\",\"ham\",\"ham\",\"ham\",\"ham\",\"ham\",\"ham\",\"ham\",\"ham\",\"ham\",\"ham\",\"ham\",\"ham\",\"ham\",\"ham\",\"ham\",\"ham\",\"ham\",\"ham\",\"ham\",\"ham\",\"ham\",\"ham\",\"ham\",\"ham\",\"ham\",\"ham\",\"ham\",\"ham\",\"ham\",\"ham\",\"ham\",\"ham\",\"ham\",\"ham\",\"ham\",\"ham\",\"ham\",\"ham\",\"ham\",\"ham\",\"ham\",\"ham\",\"ham\",\"ham\",\"ham\",\"ham\",\"ham\",\"ham\",\"ham\",\"ham\",\"ham\",\"ham\",\"ham\",\"ham\",\"ham\",\"ham\",\"ham\",\"ham\",\"ham\",\"ham\",\"ham\",\"ham\",\"ham\",\"ham\",\"ham\",\"ham\",\"ham\",\"ham\",\"ham\",\"ham\",\"ham\",\"ham\",\"ham\",\"ham\",\"ham\",\"ham\",\"ham\",\"ham\",\"ham\",\"ham\",\"ham\",\"ham\",\"ham\",\"ham\",\"ham\",\"ham\",\"ham\",\"ham\",\"ham\",\"ham\",\"ham\",\"ham\",\"ham\",\"ham\",\"ham\",\"ham\",\"ham\",\"ham\",\"ham\",\"ham\",\"ham\",\"ham\",\"ham\",\"ham\",\"ham\",\"ham\",\"ham\",\"ham\",\"ham\",\"ham\",\"ham\",\"ham\",\"ham\",\"ham\",\"ham\",\"ham\",\"ham\",\"ham\",\"ham\",\"ham\",\"ham\",\"ham\",\"ham\",\"ham\",\"ham\",\"ham\",\"ham\",\"ham\",\"ham\",\"ham\",\"ham\",\"ham\",\"ham\",\"ham\",\"ham\",\"ham\",\"ham\",\"ham\",\"ham\",\"ham\",\"ham\",\"ham\",\"ham\",\"ham\",\"ham\",\"ham\",\"ham\",\"ham\",\"ham\",\"ham\",\"ham\",\"ham\",\"ham\",\"ham\",\"ham\",\"ham\",\"ham\",\"ham\",\"ham\",\"ham\",\"ham\"],\"xaxis\":\"x\",\"yaxis\":\"y\",\"type\":\"histogram\"},{\"alignmentgroup\":\"True\",\"bingroup\":\"x\",\"hovertemplate\":\"Category=%{x}\\u003cbr\\u003ecount=%{y}\\u003cextra\\u003e\\u003c\\u002fextra\\u003e\",\"legendgroup\":\"spam\",\"marker\":{\"color\":\"#EF553B\",\"pattern\":{\"shape\":\"\"}},\"name\":\"spam\",\"offsetgroup\":\"spam\",\"orientation\":\"v\",\"showlegend\":true,\"x\":[\"spam\",\"spam\",\"spam\",\"spam\",\"spam\",\"spam\",\"spam\",\"spam\",\"spam\",\"spam\",\"spam\",\"spam\",\"spam\",\"spam\",\"spam\",\"spam\",\"spam\",\"spam\",\"spam\",\"spam\",\"spam\",\"spam\",\"spam\",\"spam\",\"spam\",\"spam\",\"spam\",\"spam\",\"spam\",\"spam\",\"spam\",\"spam\",\"spam\",\"spam\",\"spam\",\"spam\",\"spam\",\"spam\",\"spam\",\"spam\",\"spam\",\"spam\",\"spam\",\"spam\",\"spam\",\"spam\",\"spam\",\"spam\",\"spam\",\"spam\",\"spam\",\"spam\",\"spam\",\"spam\",\"spam\",\"spam\",\"spam\",\"spam\",\"spam\",\"spam\",\"spam\",\"spam\",\"spam\",\"spam\",\"spam\",\"spam\",\"spam\",\"spam\",\"spam\",\"spam\",\"spam\",\"spam\",\"spam\",\"spam\",\"spam\",\"spam\",\"spam\",\"spam\",\"spam\",\"spam\",\"spam\",\"spam\",\"spam\",\"spam\",\"spam\",\"spam\",\"spam\",\"spam\",\"spam\",\"spam\",\"spam\",\"spam\",\"spam\",\"spam\",\"spam\",\"spam\",\"spam\",\"spam\",\"spam\",\"spam\",\"spam\",\"spam\",\"spam\",\"spam\",\"spam\",\"spam\",\"spam\",\"spam\",\"spam\",\"spam\",\"spam\",\"spam\",\"spam\",\"spam\",\"spam\",\"spam\",\"spam\",\"spam\",\"spam\",\"spam\",\"spam\",\"spam\",\"spam\",\"spam\",\"spam\",\"spam\",\"spam\",\"spam\",\"spam\",\"spam\",\"spam\",\"spam\",\"spam\",\"spam\",\"spam\",\"spam\",\"spam\",\"spam\",\"spam\",\"spam\",\"spam\",\"spam\",\"spam\",\"spam\",\"spam\",\"spam\",\"spam\",\"spam\",\"spam\",\"spam\",\"spam\",\"spam\",\"spam\",\"spam\",\"spam\",\"spam\",\"spam\",\"spam\",\"spam\",\"spam\",\"spam\",\"spam\",\"spam\",\"spam\",\"spam\",\"spam\",\"spam\",\"spam\",\"spam\",\"spam\",\"spam\",\"spam\",\"spam\",\"spam\",\"spam\",\"spam\",\"spam\",\"spam\",\"spam\",\"spam\",\"spam\",\"spam\",\"spam\",\"spam\",\"spam\",\"spam\",\"spam\",\"spam\",\"spam\",\"spam\",\"spam\",\"spam\",\"spam\",\"spam\",\"spam\",\"spam\",\"spam\",\"spam\",\"spam\",\"spam\",\"spam\",\"spam\",\"spam\",\"spam\",\"spam\",\"spam\",\"spam\",\"spam\",\"spam\",\"spam\",\"spam\",\"spam\",\"spam\",\"spam\",\"spam\",\"spam\",\"spam\",\"spam\",\"spam\",\"spam\",\"spam\",\"spam\",\"spam\",\"spam\",\"spam\",\"spam\",\"spam\",\"spam\",\"spam\",\"spam\",\"spam\",\"spam\",\"spam\",\"spam\",\"spam\",\"spam\",\"spam\",\"spam\",\"spam\",\"spam\",\"spam\",\"spam\",\"spam\",\"spam\",\"spam\",\"spam\",\"spam\",\"spam\",\"spam\",\"spam\",\"spam\",\"spam\",\"spam\",\"spam\",\"spam\",\"spam\",\"spam\",\"spam\",\"spam\",\"spam\",\"spam\",\"spam\",\"spam\",\"spam\",\"spam\",\"spam\",\"spam\",\"spam\",\"spam\",\"spam\",\"spam\",\"spam\",\"spam\",\"spam\",\"spam\",\"spam\",\"spam\",\"spam\",\"spam\",\"spam\",\"spam\",\"spam\",\"spam\",\"spam\",\"spam\",\"spam\",\"spam\",\"spam\",\"spam\",\"spam\",\"spam\",\"spam\",\"spam\",\"spam\",\"spam\",\"spam\",\"spam\",\"spam\",\"spam\",\"spam\",\"spam\",\"spam\",\"spam\",\"spam\",\"spam\",\"spam\",\"spam\",\"spam\",\"spam\",\"spam\",\"spam\",\"spam\",\"spam\",\"spam\",\"spam\",\"spam\",\"spam\",\"spam\",\"spam\",\"spam\",\"spam\",\"spam\",\"spam\",\"spam\",\"spam\",\"spam\",\"spam\",\"spam\",\"spam\",\"spam\",\"spam\",\"spam\",\"spam\",\"spam\",\"spam\",\"spam\",\"spam\",\"spam\",\"spam\",\"spam\",\"spam\",\"spam\",\"spam\",\"spam\",\"spam\",\"spam\",\"spam\",\"spam\",\"spam\",\"spam\",\"spam\",\"spam\",\"spam\",\"spam\",\"spam\",\"spam\",\"spam\",\"spam\",\"spam\",\"spam\",\"spam\",\"spam\",\"spam\",\"spam\",\"spam\",\"spam\",\"spam\",\"spam\",\"spam\",\"spam\",\"spam\",\"spam\",\"spam\",\"spam\",\"spam\",\"spam\",\"spam\",\"spam\",\"spam\",\"spam\",\"spam\",\"spam\",\"spam\",\"spam\",\"spam\",\"spam\",\"spam\",\"spam\",\"spam\",\"spam\",\"spam\",\"spam\",\"spam\",\"spam\",\"spam\",\"spam\",\"spam\",\"spam\",\"spam\",\"spam\",\"spam\",\"spam\",\"spam\",\"spam\",\"spam\",\"spam\",\"spam\",\"spam\",\"spam\",\"spam\",\"spam\",\"spam\",\"spam\",\"spam\",\"spam\",\"spam\",\"spam\",\"spam\",\"spam\",\"spam\",\"spam\",\"spam\",\"spam\",\"spam\",\"spam\",\"spam\",\"spam\",\"spam\",\"spam\",\"spam\",\"spam\",\"spam\",\"spam\",\"spam\",\"spam\",\"spam\",\"spam\",\"spam\",\"spam\",\"spam\",\"spam\",\"spam\",\"spam\",\"spam\",\"spam\",\"spam\",\"spam\",\"spam\",\"spam\",\"spam\",\"spam\",\"spam\",\"spam\",\"spam\",\"spam\",\"spam\",\"spam\",\"spam\",\"spam\",\"spam\",\"spam\",\"spam\",\"spam\",\"spam\",\"spam\",\"spam\",\"spam\",\"spam\",\"spam\",\"spam\",\"spam\",\"spam\",\"spam\",\"spam\",\"spam\",\"spam\",\"spam\",\"spam\",\"spam\",\"spam\",\"spam\",\"spam\",\"spam\",\"spam\",\"spam\",\"spam\",\"spam\",\"spam\",\"spam\",\"spam\",\"spam\",\"spam\",\"spam\",\"spam\",\"spam\",\"spam\",\"spam\",\"spam\",\"spam\",\"spam\",\"spam\",\"spam\",\"spam\",\"spam\",\"spam\",\"spam\",\"spam\",\"spam\",\"spam\",\"spam\",\"spam\",\"spam\",\"spam\",\"spam\",\"spam\",\"spam\",\"spam\",\"spam\",\"spam\",\"spam\",\"spam\",\"spam\",\"spam\",\"spam\",\"spam\",\"spam\",\"spam\",\"spam\",\"spam\",\"spam\",\"spam\",\"spam\",\"spam\",\"spam\",\"spam\",\"spam\",\"spam\",\"spam\",\"spam\",\"spam\",\"spam\",\"spam\",\"spam\",\"spam\",\"spam\",\"spam\",\"spam\",\"spam\",\"spam\",\"spam\",\"spam\",\"spam\",\"spam\",\"spam\",\"spam\",\"spam\",\"spam\",\"spam\",\"spam\",\"spam\",\"spam\",\"spam\",\"spam\",\"spam\",\"spam\",\"spam\",\"spam\",\"spam\",\"spam\",\"spam\",\"spam\",\"spam\",\"spam\",\"spam\",\"spam\",\"spam\",\"spam\",\"spam\",\"spam\",\"spam\",\"spam\",\"spam\",\"spam\",\"spam\",\"spam\",\"spam\",\"spam\",\"spam\",\"spam\",\"spam\",\"spam\",\"spam\",\"spam\",\"spam\",\"spam\",\"spam\",\"spam\",\"spam\",\"spam\",\"spam\",\"spam\",\"spam\",\"spam\",\"spam\",\"spam\",\"spam\",\"spam\",\"spam\",\"spam\",\"spam\",\"spam\",\"spam\",\"spam\",\"spam\",\"spam\",\"spam\",\"spam\",\"spam\",\"spam\",\"spam\",\"spam\",\"spam\",\"spam\",\"spam\",\"spam\",\"spam\",\"spam\",\"spam\",\"spam\",\"spam\",\"spam\",\"spam\",\"spam\",\"spam\",\"spam\",\"spam\",\"spam\",\"spam\",\"spam\",\"spam\",\"spam\",\"spam\",\"spam\",\"spam\",\"spam\",\"spam\",\"spam\",\"spam\",\"spam\",\"spam\",\"spam\",\"spam\",\"spam\",\"spam\",\"spam\",\"spam\",\"spam\",\"spam\",\"spam\",\"spam\",\"spam\",\"spam\",\"spam\",\"spam\",\"spam\",\"spam\",\"spam\",\"spam\",\"spam\",\"spam\",\"spam\",\"spam\",\"spam\",\"spam\",\"spam\",\"spam\",\"spam\",\"spam\",\"spam\",\"spam\",\"spam\",\"spam\",\"spam\",\"spam\",\"spam\",\"spam\",\"spam\",\"spam\",\"spam\",\"spam\",\"spam\",\"spam\",\"spam\",\"spam\",\"spam\",\"spam\",\"spam\",\"spam\",\"spam\",\"spam\",\"spam\",\"spam\",\"spam\",\"spam\",\"spam\",\"spam\",\"spam\",\"spam\",\"spam\",\"spam\",\"spam\",\"spam\",\"spam\",\"spam\",\"spam\",\"spam\",\"spam\",\"spam\",\"spam\",\"spam\",\"spam\",\"spam\",\"spam\",\"spam\",\"spam\",\"spam\",\"spam\",\"spam\",\"spam\",\"spam\",\"spam\",\"spam\",\"spam\",\"spam\",\"spam\",\"spam\",\"spam\",\"spam\",\"spam\",\"spam\",\"spam\",\"spam\",\"spam\",\"spam\",\"spam\",\"spam\",\"spam\"],\"xaxis\":\"x\",\"yaxis\":\"y\",\"type\":\"histogram\"}],                        {\"template\":{\"data\":{\"histogram2dcontour\":[{\"type\":\"histogram2dcontour\",\"colorbar\":{\"outlinewidth\":0,\"ticks\":\"\"},\"colorscale\":[[0.0,\"#0d0887\"],[0.1111111111111111,\"#46039f\"],[0.2222222222222222,\"#7201a8\"],[0.3333333333333333,\"#9c179e\"],[0.4444444444444444,\"#bd3786\"],[0.5555555555555556,\"#d8576b\"],[0.6666666666666666,\"#ed7953\"],[0.7777777777777778,\"#fb9f3a\"],[0.8888888888888888,\"#fdca26\"],[1.0,\"#f0f921\"]]}],\"choropleth\":[{\"type\":\"choropleth\",\"colorbar\":{\"outlinewidth\":0,\"ticks\":\"\"}}],\"histogram2d\":[{\"type\":\"histogram2d\",\"colorbar\":{\"outlinewidth\":0,\"ticks\":\"\"},\"colorscale\":[[0.0,\"#0d0887\"],[0.1111111111111111,\"#46039f\"],[0.2222222222222222,\"#7201a8\"],[0.3333333333333333,\"#9c179e\"],[0.4444444444444444,\"#bd3786\"],[0.5555555555555556,\"#d8576b\"],[0.6666666666666666,\"#ed7953\"],[0.7777777777777778,\"#fb9f3a\"],[0.8888888888888888,\"#fdca26\"],[1.0,\"#f0f921\"]]}],\"heatmap\":[{\"type\":\"heatmap\",\"colorbar\":{\"outlinewidth\":0,\"ticks\":\"\"},\"colorscale\":[[0.0,\"#0d0887\"],[0.1111111111111111,\"#46039f\"],[0.2222222222222222,\"#7201a8\"],[0.3333333333333333,\"#9c179e\"],[0.4444444444444444,\"#bd3786\"],[0.5555555555555556,\"#d8576b\"],[0.6666666666666666,\"#ed7953\"],[0.7777777777777778,\"#fb9f3a\"],[0.8888888888888888,\"#fdca26\"],[1.0,\"#f0f921\"]]}],\"heatmapgl\":[{\"type\":\"heatmapgl\",\"colorbar\":{\"outlinewidth\":0,\"ticks\":\"\"},\"colorscale\":[[0.0,\"#0d0887\"],[0.1111111111111111,\"#46039f\"],[0.2222222222222222,\"#7201a8\"],[0.3333333333333333,\"#9c179e\"],[0.4444444444444444,\"#bd3786\"],[0.5555555555555556,\"#d8576b\"],[0.6666666666666666,\"#ed7953\"],[0.7777777777777778,\"#fb9f3a\"],[0.8888888888888888,\"#fdca26\"],[1.0,\"#f0f921\"]]}],\"contourcarpet\":[{\"type\":\"contourcarpet\",\"colorbar\":{\"outlinewidth\":0,\"ticks\":\"\"}}],\"contour\":[{\"type\":\"contour\",\"colorbar\":{\"outlinewidth\":0,\"ticks\":\"\"},\"colorscale\":[[0.0,\"#0d0887\"],[0.1111111111111111,\"#46039f\"],[0.2222222222222222,\"#7201a8\"],[0.3333333333333333,\"#9c179e\"],[0.4444444444444444,\"#bd3786\"],[0.5555555555555556,\"#d8576b\"],[0.6666666666666666,\"#ed7953\"],[0.7777777777777778,\"#fb9f3a\"],[0.8888888888888888,\"#fdca26\"],[1.0,\"#f0f921\"]]}],\"surface\":[{\"type\":\"surface\",\"colorbar\":{\"outlinewidth\":0,\"ticks\":\"\"},\"colorscale\":[[0.0,\"#0d0887\"],[0.1111111111111111,\"#46039f\"],[0.2222222222222222,\"#7201a8\"],[0.3333333333333333,\"#9c179e\"],[0.4444444444444444,\"#bd3786\"],[0.5555555555555556,\"#d8576b\"],[0.6666666666666666,\"#ed7953\"],[0.7777777777777778,\"#fb9f3a\"],[0.8888888888888888,\"#fdca26\"],[1.0,\"#f0f921\"]]}],\"mesh3d\":[{\"type\":\"mesh3d\",\"colorbar\":{\"outlinewidth\":0,\"ticks\":\"\"}}],\"scatter\":[{\"fillpattern\":{\"fillmode\":\"overlay\",\"size\":10,\"solidity\":0.2},\"type\":\"scatter\"}],\"parcoords\":[{\"type\":\"parcoords\",\"line\":{\"colorbar\":{\"outlinewidth\":0,\"ticks\":\"\"}}}],\"scatterpolargl\":[{\"type\":\"scatterpolargl\",\"marker\":{\"colorbar\":{\"outlinewidth\":0,\"ticks\":\"\"}}}],\"bar\":[{\"error_x\":{\"color\":\"#2a3f5f\"},\"error_y\":{\"color\":\"#2a3f5f\"},\"marker\":{\"line\":{\"color\":\"#E5ECF6\",\"width\":0.5},\"pattern\":{\"fillmode\":\"overlay\",\"size\":10,\"solidity\":0.2}},\"type\":\"bar\"}],\"scattergeo\":[{\"type\":\"scattergeo\",\"marker\":{\"colorbar\":{\"outlinewidth\":0,\"ticks\":\"\"}}}],\"scatterpolar\":[{\"type\":\"scatterpolar\",\"marker\":{\"colorbar\":{\"outlinewidth\":0,\"ticks\":\"\"}}}],\"histogram\":[{\"marker\":{\"pattern\":{\"fillmode\":\"overlay\",\"size\":10,\"solidity\":0.2}},\"type\":\"histogram\"}],\"scattergl\":[{\"type\":\"scattergl\",\"marker\":{\"colorbar\":{\"outlinewidth\":0,\"ticks\":\"\"}}}],\"scatter3d\":[{\"type\":\"scatter3d\",\"line\":{\"colorbar\":{\"outlinewidth\":0,\"ticks\":\"\"}},\"marker\":{\"colorbar\":{\"outlinewidth\":0,\"ticks\":\"\"}}}],\"scattermapbox\":[{\"type\":\"scattermapbox\",\"marker\":{\"colorbar\":{\"outlinewidth\":0,\"ticks\":\"\"}}}],\"scatterternary\":[{\"type\":\"scatterternary\",\"marker\":{\"colorbar\":{\"outlinewidth\":0,\"ticks\":\"\"}}}],\"scattercarpet\":[{\"type\":\"scattercarpet\",\"marker\":{\"colorbar\":{\"outlinewidth\":0,\"ticks\":\"\"}}}],\"carpet\":[{\"aaxis\":{\"endlinecolor\":\"#2a3f5f\",\"gridcolor\":\"white\",\"linecolor\":\"white\",\"minorgridcolor\":\"white\",\"startlinecolor\":\"#2a3f5f\"},\"baxis\":{\"endlinecolor\":\"#2a3f5f\",\"gridcolor\":\"white\",\"linecolor\":\"white\",\"minorgridcolor\":\"white\",\"startlinecolor\":\"#2a3f5f\"},\"type\":\"carpet\"}],\"table\":[{\"cells\":{\"fill\":{\"color\":\"#EBF0F8\"},\"line\":{\"color\":\"white\"}},\"header\":{\"fill\":{\"color\":\"#C8D4E3\"},\"line\":{\"color\":\"white\"}},\"type\":\"table\"}],\"barpolar\":[{\"marker\":{\"line\":{\"color\":\"#E5ECF6\",\"width\":0.5},\"pattern\":{\"fillmode\":\"overlay\",\"size\":10,\"solidity\":0.2}},\"type\":\"barpolar\"}],\"pie\":[{\"automargin\":true,\"type\":\"pie\"}]},\"layout\":{\"autotypenumbers\":\"strict\",\"colorway\":[\"#636efa\",\"#EF553B\",\"#00cc96\",\"#ab63fa\",\"#FFA15A\",\"#19d3f3\",\"#FF6692\",\"#B6E880\",\"#FF97FF\",\"#FECB52\"],\"font\":{\"color\":\"#2a3f5f\"},\"hovermode\":\"closest\",\"hoverlabel\":{\"align\":\"left\"},\"paper_bgcolor\":\"white\",\"plot_bgcolor\":\"#E5ECF6\",\"polar\":{\"bgcolor\":\"#E5ECF6\",\"angularaxis\":{\"gridcolor\":\"white\",\"linecolor\":\"white\",\"ticks\":\"\"},\"radialaxis\":{\"gridcolor\":\"white\",\"linecolor\":\"white\",\"ticks\":\"\"}},\"ternary\":{\"bgcolor\":\"#E5ECF6\",\"aaxis\":{\"gridcolor\":\"white\",\"linecolor\":\"white\",\"ticks\":\"\"},\"baxis\":{\"gridcolor\":\"white\",\"linecolor\":\"white\",\"ticks\":\"\"},\"caxis\":{\"gridcolor\":\"white\",\"linecolor\":\"white\",\"ticks\":\"\"}},\"coloraxis\":{\"colorbar\":{\"outlinewidth\":0,\"ticks\":\"\"}},\"colorscale\":{\"sequential\":[[0.0,\"#0d0887\"],[0.1111111111111111,\"#46039f\"],[0.2222222222222222,\"#7201a8\"],[0.3333333333333333,\"#9c179e\"],[0.4444444444444444,\"#bd3786\"],[0.5555555555555556,\"#d8576b\"],[0.6666666666666666,\"#ed7953\"],[0.7777777777777778,\"#fb9f3a\"],[0.8888888888888888,\"#fdca26\"],[1.0,\"#f0f921\"]],\"sequentialminus\":[[0.0,\"#0d0887\"],[0.1111111111111111,\"#46039f\"],[0.2222222222222222,\"#7201a8\"],[0.3333333333333333,\"#9c179e\"],[0.4444444444444444,\"#bd3786\"],[0.5555555555555556,\"#d8576b\"],[0.6666666666666666,\"#ed7953\"],[0.7777777777777778,\"#fb9f3a\"],[0.8888888888888888,\"#fdca26\"],[1.0,\"#f0f921\"]],\"diverging\":[[0,\"#8e0152\"],[0.1,\"#c51b7d\"],[0.2,\"#de77ae\"],[0.3,\"#f1b6da\"],[0.4,\"#fde0ef\"],[0.5,\"#f7f7f7\"],[0.6,\"#e6f5d0\"],[0.7,\"#b8e186\"],[0.8,\"#7fbc41\"],[0.9,\"#4d9221\"],[1,\"#276419\"]]},\"xaxis\":{\"gridcolor\":\"white\",\"linecolor\":\"white\",\"ticks\":\"\",\"title\":{\"standoff\":15},\"zerolinecolor\":\"white\",\"automargin\":true,\"zerolinewidth\":2},\"yaxis\":{\"gridcolor\":\"white\",\"linecolor\":\"white\",\"ticks\":\"\",\"title\":{\"standoff\":15},\"zerolinecolor\":\"white\",\"automargin\":true,\"zerolinewidth\":2},\"scene\":{\"xaxis\":{\"backgroundcolor\":\"#E5ECF6\",\"gridcolor\":\"white\",\"linecolor\":\"white\",\"showbackground\":true,\"ticks\":\"\",\"zerolinecolor\":\"white\",\"gridwidth\":2},\"yaxis\":{\"backgroundcolor\":\"#E5ECF6\",\"gridcolor\":\"white\",\"linecolor\":\"white\",\"showbackground\":true,\"ticks\":\"\",\"zerolinecolor\":\"white\",\"gridwidth\":2},\"zaxis\":{\"backgroundcolor\":\"#E5ECF6\",\"gridcolor\":\"white\",\"linecolor\":\"white\",\"showbackground\":true,\"ticks\":\"\",\"zerolinecolor\":\"white\",\"gridwidth\":2}},\"shapedefaults\":{\"line\":{\"color\":\"#2a3f5f\"}},\"annotationdefaults\":{\"arrowcolor\":\"#2a3f5f\",\"arrowhead\":0,\"arrowwidth\":1},\"geo\":{\"bgcolor\":\"white\",\"landcolor\":\"#E5ECF6\",\"subunitcolor\":\"white\",\"showland\":true,\"showlakes\":true,\"lakecolor\":\"white\"},\"title\":{\"x\":0.05},\"mapbox\":{\"style\":\"light\"}}},\"xaxis\":{\"anchor\":\"y\",\"domain\":[0.0,1.0],\"title\":{\"text\":\"Category\"},\"categoryorder\":\"array\",\"categoryarray\":[\"ham\",\"spam\"]},\"yaxis\":{\"anchor\":\"x\",\"domain\":[0.0,1.0],\"title\":{\"text\":\"count\"}},\"legend\":{\"title\":{\"text\":\"Category\"},\"tracegroupgap\":0},\"margin\":{\"t\":60},\"barmode\":\"relative\"},                        {\"responsive\": true}                    ).then(function(){\n",
              "                            \n",
              "var gd = document.getElementById('cedaa16d-60cc-4078-ad94-843450d195ae');\n",
              "var x = new MutationObserver(function (mutations, observer) {{\n",
              "        var display = window.getComputedStyle(gd).display;\n",
              "        if (!display || display === 'none') {{\n",
              "            console.log([gd, 'removed!']);\n",
              "            Plotly.purge(gd);\n",
              "            observer.disconnect();\n",
              "        }}\n",
              "}});\n",
              "\n",
              "// Listen for the removal of the full notebook cells\n",
              "var notebookContainer = gd.closest('#notebook-container');\n",
              "if (notebookContainer) {{\n",
              "    x.observe(notebookContainer, {childList: true});\n",
              "}}\n",
              "\n",
              "// Listen for the clearing of the current output cell\n",
              "var outputEl = gd.closest('.output');\n",
              "if (outputEl) {{\n",
              "    x.observe(outputEl, {childList: true});\n",
              "}}\n",
              "\n",
              "                        })                };                            </script>        </div>\n",
              "</body>\n",
              "</html>"
            ]
          },
          "metadata": {}
        }
      ]
    },
    {
      "cell_type": "code",
      "source": [
        "encoder=LabelEncoder()\n",
        "data['Category']=encoder.fit_transform(data['Category'])"
      ],
      "metadata": {
        "id": "t-drZ7Rfsh9m"
      },
      "execution_count": 183,
      "outputs": []
    },
    {
      "cell_type": "code",
      "source": [
        "data.head()"
      ],
      "metadata": {
        "colab": {
          "base_uri": "https://localhost:8080/",
          "height": 206
        },
        "id": "dCZhWPrTukqd",
        "outputId": "9a30f190-7f42-4e62-d166-1e151be8e3c7"
      },
      "execution_count": 184,
      "outputs": [
        {
          "output_type": "execute_result",
          "data": {
            "text/plain": [
              "   Category                                            Message\n",
              "0         0  Go until jurong point, crazy.. Available only ...\n",
              "1         0                      Ok lar... Joking wif u oni...\n",
              "2         1  Free entry in 2 a wkly comp to win FA Cup fina...\n",
              "3         0  U dun say so early hor... U c already then say...\n",
              "4         0  Nah I don't think he goes to usf, he lives aro..."
            ],
            "text/html": [
              "\n",
              "  <div id=\"df-b228bce2-f0d2-4e00-bcf7-081de7e59cd0\" class=\"colab-df-container\">\n",
              "    <div>\n",
              "<style scoped>\n",
              "    .dataframe tbody tr th:only-of-type {\n",
              "        vertical-align: middle;\n",
              "    }\n",
              "\n",
              "    .dataframe tbody tr th {\n",
              "        vertical-align: top;\n",
              "    }\n",
              "\n",
              "    .dataframe thead th {\n",
              "        text-align: right;\n",
              "    }\n",
              "</style>\n",
              "<table border=\"1\" class=\"dataframe\">\n",
              "  <thead>\n",
              "    <tr style=\"text-align: right;\">\n",
              "      <th></th>\n",
              "      <th>Category</th>\n",
              "      <th>Message</th>\n",
              "    </tr>\n",
              "  </thead>\n",
              "  <tbody>\n",
              "    <tr>\n",
              "      <th>0</th>\n",
              "      <td>0</td>\n",
              "      <td>Go until jurong point, crazy.. Available only ...</td>\n",
              "    </tr>\n",
              "    <tr>\n",
              "      <th>1</th>\n",
              "      <td>0</td>\n",
              "      <td>Ok lar... Joking wif u oni...</td>\n",
              "    </tr>\n",
              "    <tr>\n",
              "      <th>2</th>\n",
              "      <td>1</td>\n",
              "      <td>Free entry in 2 a wkly comp to win FA Cup fina...</td>\n",
              "    </tr>\n",
              "    <tr>\n",
              "      <th>3</th>\n",
              "      <td>0</td>\n",
              "      <td>U dun say so early hor... U c already then say...</td>\n",
              "    </tr>\n",
              "    <tr>\n",
              "      <th>4</th>\n",
              "      <td>0</td>\n",
              "      <td>Nah I don't think he goes to usf, he lives aro...</td>\n",
              "    </tr>\n",
              "  </tbody>\n",
              "</table>\n",
              "</div>\n",
              "    <div class=\"colab-df-buttons\">\n",
              "\n",
              "  <div class=\"colab-df-container\">\n",
              "    <button class=\"colab-df-convert\" onclick=\"convertToInteractive('df-b228bce2-f0d2-4e00-bcf7-081de7e59cd0')\"\n",
              "            title=\"Convert this dataframe to an interactive table.\"\n",
              "            style=\"display:none;\">\n",
              "\n",
              "  <svg xmlns=\"http://www.w3.org/2000/svg\" height=\"24px\" viewBox=\"0 -960 960 960\">\n",
              "    <path d=\"M120-120v-720h720v720H120Zm60-500h600v-160H180v160Zm220 220h160v-160H400v160Zm0 220h160v-160H400v160ZM180-400h160v-160H180v160Zm440 0h160v-160H620v160ZM180-180h160v-160H180v160Zm440 0h160v-160H620v160Z\"/>\n",
              "  </svg>\n",
              "    </button>\n",
              "\n",
              "  <style>\n",
              "    .colab-df-container {\n",
              "      display:flex;\n",
              "      gap: 12px;\n",
              "    }\n",
              "\n",
              "    .colab-df-convert {\n",
              "      background-color: #E8F0FE;\n",
              "      border: none;\n",
              "      border-radius: 50%;\n",
              "      cursor: pointer;\n",
              "      display: none;\n",
              "      fill: #1967D2;\n",
              "      height: 32px;\n",
              "      padding: 0 0 0 0;\n",
              "      width: 32px;\n",
              "    }\n",
              "\n",
              "    .colab-df-convert:hover {\n",
              "      background-color: #E2EBFA;\n",
              "      box-shadow: 0px 1px 2px rgba(60, 64, 67, 0.3), 0px 1px 3px 1px rgba(60, 64, 67, 0.15);\n",
              "      fill: #174EA6;\n",
              "    }\n",
              "\n",
              "    .colab-df-buttons div {\n",
              "      margin-bottom: 4px;\n",
              "    }\n",
              "\n",
              "    [theme=dark] .colab-df-convert {\n",
              "      background-color: #3B4455;\n",
              "      fill: #D2E3FC;\n",
              "    }\n",
              "\n",
              "    [theme=dark] .colab-df-convert:hover {\n",
              "      background-color: #434B5C;\n",
              "      box-shadow: 0px 1px 3px 1px rgba(0, 0, 0, 0.15);\n",
              "      filter: drop-shadow(0px 1px 2px rgba(0, 0, 0, 0.3));\n",
              "      fill: #FFFFFF;\n",
              "    }\n",
              "  </style>\n",
              "\n",
              "    <script>\n",
              "      const buttonEl =\n",
              "        document.querySelector('#df-b228bce2-f0d2-4e00-bcf7-081de7e59cd0 button.colab-df-convert');\n",
              "      buttonEl.style.display =\n",
              "        google.colab.kernel.accessAllowed ? 'block' : 'none';\n",
              "\n",
              "      async function convertToInteractive(key) {\n",
              "        const element = document.querySelector('#df-b228bce2-f0d2-4e00-bcf7-081de7e59cd0');\n",
              "        const dataTable =\n",
              "          await google.colab.kernel.invokeFunction('convertToInteractive',\n",
              "                                                    [key], {});\n",
              "        if (!dataTable) return;\n",
              "\n",
              "        const docLinkHtml = 'Like what you see? Visit the ' +\n",
              "          '<a target=\"_blank\" href=https://colab.research.google.com/notebooks/data_table.ipynb>data table notebook</a>'\n",
              "          + ' to learn more about interactive tables.';\n",
              "        element.innerHTML = '';\n",
              "        dataTable['output_type'] = 'display_data';\n",
              "        await google.colab.output.renderOutput(dataTable, element);\n",
              "        const docLink = document.createElement('div');\n",
              "        docLink.innerHTML = docLinkHtml;\n",
              "        element.appendChild(docLink);\n",
              "      }\n",
              "    </script>\n",
              "  </div>\n",
              "\n",
              "\n",
              "<div id=\"df-448653be-67d8-4445-b6f1-83d989e1fe93\">\n",
              "  <button class=\"colab-df-quickchart\" onclick=\"quickchart('df-448653be-67d8-4445-b6f1-83d989e1fe93')\"\n",
              "            title=\"Suggest charts\"\n",
              "            style=\"display:none;\">\n",
              "\n",
              "<svg xmlns=\"http://www.w3.org/2000/svg\" height=\"24px\"viewBox=\"0 0 24 24\"\n",
              "     width=\"24px\">\n",
              "    <g>\n",
              "        <path d=\"M19 3H5c-1.1 0-2 .9-2 2v14c0 1.1.9 2 2 2h14c1.1 0 2-.9 2-2V5c0-1.1-.9-2-2-2zM9 17H7v-7h2v7zm4 0h-2V7h2v10zm4 0h-2v-4h2v4z\"/>\n",
              "    </g>\n",
              "</svg>\n",
              "  </button>\n",
              "\n",
              "<style>\n",
              "  .colab-df-quickchart {\n",
              "      --bg-color: #E8F0FE;\n",
              "      --fill-color: #1967D2;\n",
              "      --hover-bg-color: #E2EBFA;\n",
              "      --hover-fill-color: #174EA6;\n",
              "      --disabled-fill-color: #AAA;\n",
              "      --disabled-bg-color: #DDD;\n",
              "  }\n",
              "\n",
              "  [theme=dark] .colab-df-quickchart {\n",
              "      --bg-color: #3B4455;\n",
              "      --fill-color: #D2E3FC;\n",
              "      --hover-bg-color: #434B5C;\n",
              "      --hover-fill-color: #FFFFFF;\n",
              "      --disabled-bg-color: #3B4455;\n",
              "      --disabled-fill-color: #666;\n",
              "  }\n",
              "\n",
              "  .colab-df-quickchart {\n",
              "    background-color: var(--bg-color);\n",
              "    border: none;\n",
              "    border-radius: 50%;\n",
              "    cursor: pointer;\n",
              "    display: none;\n",
              "    fill: var(--fill-color);\n",
              "    height: 32px;\n",
              "    padding: 0;\n",
              "    width: 32px;\n",
              "  }\n",
              "\n",
              "  .colab-df-quickchart:hover {\n",
              "    background-color: var(--hover-bg-color);\n",
              "    box-shadow: 0 1px 2px rgba(60, 64, 67, 0.3), 0 1px 3px 1px rgba(60, 64, 67, 0.15);\n",
              "    fill: var(--button-hover-fill-color);\n",
              "  }\n",
              "\n",
              "  .colab-df-quickchart-complete:disabled,\n",
              "  .colab-df-quickchart-complete:disabled:hover {\n",
              "    background-color: var(--disabled-bg-color);\n",
              "    fill: var(--disabled-fill-color);\n",
              "    box-shadow: none;\n",
              "  }\n",
              "\n",
              "  .colab-df-spinner {\n",
              "    border: 2px solid var(--fill-color);\n",
              "    border-color: transparent;\n",
              "    border-bottom-color: var(--fill-color);\n",
              "    animation:\n",
              "      spin 1s steps(1) infinite;\n",
              "  }\n",
              "\n",
              "  @keyframes spin {\n",
              "    0% {\n",
              "      border-color: transparent;\n",
              "      border-bottom-color: var(--fill-color);\n",
              "      border-left-color: var(--fill-color);\n",
              "    }\n",
              "    20% {\n",
              "      border-color: transparent;\n",
              "      border-left-color: var(--fill-color);\n",
              "      border-top-color: var(--fill-color);\n",
              "    }\n",
              "    30% {\n",
              "      border-color: transparent;\n",
              "      border-left-color: var(--fill-color);\n",
              "      border-top-color: var(--fill-color);\n",
              "      border-right-color: var(--fill-color);\n",
              "    }\n",
              "    40% {\n",
              "      border-color: transparent;\n",
              "      border-right-color: var(--fill-color);\n",
              "      border-top-color: var(--fill-color);\n",
              "    }\n",
              "    60% {\n",
              "      border-color: transparent;\n",
              "      border-right-color: var(--fill-color);\n",
              "    }\n",
              "    80% {\n",
              "      border-color: transparent;\n",
              "      border-right-color: var(--fill-color);\n",
              "      border-bottom-color: var(--fill-color);\n",
              "    }\n",
              "    90% {\n",
              "      border-color: transparent;\n",
              "      border-bottom-color: var(--fill-color);\n",
              "    }\n",
              "  }\n",
              "</style>\n",
              "\n",
              "  <script>\n",
              "    async function quickchart(key) {\n",
              "      const quickchartButtonEl =\n",
              "        document.querySelector('#' + key + ' button');\n",
              "      quickchartButtonEl.disabled = true;  // To prevent multiple clicks.\n",
              "      quickchartButtonEl.classList.add('colab-df-spinner');\n",
              "      try {\n",
              "        const charts = await google.colab.kernel.invokeFunction(\n",
              "            'suggestCharts', [key], {});\n",
              "      } catch (error) {\n",
              "        console.error('Error during call to suggestCharts:', error);\n",
              "      }\n",
              "      quickchartButtonEl.classList.remove('colab-df-spinner');\n",
              "      quickchartButtonEl.classList.add('colab-df-quickchart-complete');\n",
              "    }\n",
              "    (() => {\n",
              "      let quickchartButtonEl =\n",
              "        document.querySelector('#df-448653be-67d8-4445-b6f1-83d989e1fe93 button');\n",
              "      quickchartButtonEl.style.display =\n",
              "        google.colab.kernel.accessAllowed ? 'block' : 'none';\n",
              "    })();\n",
              "  </script>\n",
              "</div>\n",
              "\n",
              "    </div>\n",
              "  </div>\n"
            ],
            "application/vnd.google.colaboratory.intrinsic+json": {
              "type": "dataframe",
              "variable_name": "data",
              "summary": "{\n  \"name\": \"data\",\n  \"rows\": 5572,\n  \"fields\": [\n    {\n      \"column\": \"Category\",\n      \"properties\": {\n        \"dtype\": \"number\",\n        \"std\": 0,\n        \"min\": 0,\n        \"max\": 1,\n        \"num_unique_values\": 2,\n        \"samples\": [\n          1,\n          0\n        ],\n        \"semantic_type\": \"\",\n        \"description\": \"\"\n      }\n    },\n    {\n      \"column\": \"Message\",\n      \"properties\": {\n        \"dtype\": \"string\",\n        \"num_unique_values\": 5169,\n        \"samples\": [\n          \"Did u download the fring app?\",\n          \"Pass dis to all ur contacts n see wat u get! Red;i'm in luv wid u. Blue;u put a smile on my face. Purple;u r realy hot. Pink;u r so swt. Orange;i thnk i lyk u. Green;i realy wana go out wid u. Yelow;i wnt u bck. Black;i'm jealous of u. Brown;i miss you Nw plz giv me one color\"\n        ],\n        \"semantic_type\": \"\",\n        \"description\": \"\"\n      }\n    }\n  ]\n}"
            }
          },
          "metadata": {},
          "execution_count": 184
        }
      ]
    },
    {
      "cell_type": "markdown",
      "source": [
        "#**Splitting our data**"
      ],
      "metadata": {
        "id": "NGakmpIw-mfn"
      }
    },
    {
      "cell_type": "code",
      "source": [
        "x_train,x_test,y_train,y_test=train_test_split(data['Message'],data['Category'],test_size=0.2,random_state=3)"
      ],
      "metadata": {
        "id": "tHB7Enh-umSl"
      },
      "execution_count": 185,
      "outputs": []
    },
    {
      "cell_type": "markdown",
      "source": [
        "##Vectorize our data"
      ],
      "metadata": {
        "id": "D5f5L7ZS-yR8"
      }
    },
    {
      "cell_type": "code",
      "source": [
        "fe=TfidfVectorizer(min_df=1,stop_words=\"english\", lowercase=True)\n",
        "x_train_fe=fe.fit_transform(x_train)\n",
        "x_test_fe=fe.transform(x_test)"
      ],
      "metadata": {
        "id": "_ZVn6MwIwwON"
      },
      "execution_count": 186,
      "outputs": []
    },
    {
      "cell_type": "markdown",
      "source": [
        "#**Logistic Model**"
      ],
      "metadata": {
        "id": "0_2vzXmg1Cxh"
      }
    },
    {
      "cell_type": "code",
      "source": [
        "model_lr=LogisticRegression()\n",
        "model_lr.fit(x_train_fe,y_train)"
      ],
      "metadata": {
        "colab": {
          "base_uri": "https://localhost:8080/",
          "height": 0
        },
        "id": "hnkx3ZjS0VcI",
        "outputId": "b2522a61-498c-4967-bbe9-dc85093c3ffc"
      },
      "execution_count": 187,
      "outputs": [
        {
          "output_type": "execute_result",
          "data": {
            "text/plain": [
              "LogisticRegression()"
            ],
            "text/html": [
              "<style>#sk-container-id-8 {color: black;}#sk-container-id-8 pre{padding: 0;}#sk-container-id-8 div.sk-toggleable {background-color: white;}#sk-container-id-8 label.sk-toggleable__label {cursor: pointer;display: block;width: 100%;margin-bottom: 0;padding: 0.3em;box-sizing: border-box;text-align: center;}#sk-container-id-8 label.sk-toggleable__label-arrow:before {content: \"▸\";float: left;margin-right: 0.25em;color: #696969;}#sk-container-id-8 label.sk-toggleable__label-arrow:hover:before {color: black;}#sk-container-id-8 div.sk-estimator:hover label.sk-toggleable__label-arrow:before {color: black;}#sk-container-id-8 div.sk-toggleable__content {max-height: 0;max-width: 0;overflow: hidden;text-align: left;background-color: #f0f8ff;}#sk-container-id-8 div.sk-toggleable__content pre {margin: 0.2em;color: black;border-radius: 0.25em;background-color: #f0f8ff;}#sk-container-id-8 input.sk-toggleable__control:checked~div.sk-toggleable__content {max-height: 200px;max-width: 100%;overflow: auto;}#sk-container-id-8 input.sk-toggleable__control:checked~label.sk-toggleable__label-arrow:before {content: \"▾\";}#sk-container-id-8 div.sk-estimator input.sk-toggleable__control:checked~label.sk-toggleable__label {background-color: #d4ebff;}#sk-container-id-8 div.sk-label input.sk-toggleable__control:checked~label.sk-toggleable__label {background-color: #d4ebff;}#sk-container-id-8 input.sk-hidden--visually {border: 0;clip: rect(1px 1px 1px 1px);clip: rect(1px, 1px, 1px, 1px);height: 1px;margin: -1px;overflow: hidden;padding: 0;position: absolute;width: 1px;}#sk-container-id-8 div.sk-estimator {font-family: monospace;background-color: #f0f8ff;border: 1px dotted black;border-radius: 0.25em;box-sizing: border-box;margin-bottom: 0.5em;}#sk-container-id-8 div.sk-estimator:hover {background-color: #d4ebff;}#sk-container-id-8 div.sk-parallel-item::after {content: \"\";width: 100%;border-bottom: 1px solid gray;flex-grow: 1;}#sk-container-id-8 div.sk-label:hover label.sk-toggleable__label {background-color: #d4ebff;}#sk-container-id-8 div.sk-serial::before {content: \"\";position: absolute;border-left: 1px solid gray;box-sizing: border-box;top: 0;bottom: 0;left: 50%;z-index: 0;}#sk-container-id-8 div.sk-serial {display: flex;flex-direction: column;align-items: center;background-color: white;padding-right: 0.2em;padding-left: 0.2em;position: relative;}#sk-container-id-8 div.sk-item {position: relative;z-index: 1;}#sk-container-id-8 div.sk-parallel {display: flex;align-items: stretch;justify-content: center;background-color: white;position: relative;}#sk-container-id-8 div.sk-item::before, #sk-container-id-8 div.sk-parallel-item::before {content: \"\";position: absolute;border-left: 1px solid gray;box-sizing: border-box;top: 0;bottom: 0;left: 50%;z-index: -1;}#sk-container-id-8 div.sk-parallel-item {display: flex;flex-direction: column;z-index: 1;position: relative;background-color: white;}#sk-container-id-8 div.sk-parallel-item:first-child::after {align-self: flex-end;width: 50%;}#sk-container-id-8 div.sk-parallel-item:last-child::after {align-self: flex-start;width: 50%;}#sk-container-id-8 div.sk-parallel-item:only-child::after {width: 0;}#sk-container-id-8 div.sk-dashed-wrapped {border: 1px dashed gray;margin: 0 0.4em 0.5em 0.4em;box-sizing: border-box;padding-bottom: 0.4em;background-color: white;}#sk-container-id-8 div.sk-label label {font-family: monospace;font-weight: bold;display: inline-block;line-height: 1.2em;}#sk-container-id-8 div.sk-label-container {text-align: center;}#sk-container-id-8 div.sk-container {/* jupyter's `normalize.less` sets `[hidden] { display: none; }` but bootstrap.min.css set `[hidden] { display: none !important; }` so we also need the `!important` here to be able to override the default hidden behavior on the sphinx rendered scikit-learn.org. See: https://github.com/scikit-learn/scikit-learn/issues/21755 */display: inline-block !important;position: relative;}#sk-container-id-8 div.sk-text-repr-fallback {display: none;}</style><div id=\"sk-container-id-8\" class=\"sk-top-container\"><div class=\"sk-text-repr-fallback\"><pre>LogisticRegression()</pre><b>In a Jupyter environment, please rerun this cell to show the HTML representation or trust the notebook. <br />On GitHub, the HTML representation is unable to render, please try loading this page with nbviewer.org.</b></div><div class=\"sk-container\" hidden><div class=\"sk-item\"><div class=\"sk-estimator sk-toggleable\"><input class=\"sk-toggleable__control sk-hidden--visually\" id=\"sk-estimator-id-8\" type=\"checkbox\" checked><label for=\"sk-estimator-id-8\" class=\"sk-toggleable__label sk-toggleable__label-arrow\">LogisticRegression</label><div class=\"sk-toggleable__content\"><pre>LogisticRegression()</pre></div></div></div></div></div>"
            ]
          },
          "metadata": {},
          "execution_count": 187
        }
      ]
    },
    {
      "cell_type": "code",
      "source": [
        "y_train_pred_lr=model_lr.predict(x_train_fe)"
      ],
      "metadata": {
        "id": "eOlUq0ls1aIo"
      },
      "execution_count": 188,
      "outputs": []
    },
    {
      "cell_type": "code",
      "source": [
        "accuracy_score(y_train,y_train_pred_lr)*100"
      ],
      "metadata": {
        "colab": {
          "base_uri": "https://localhost:8080/"
        },
        "id": "QSMurAfx1oBI",
        "outputId": "89640b53-77e8-4a85-ff17-36719f2d732f"
      },
      "execution_count": 189,
      "outputs": [
        {
          "output_type": "execute_result",
          "data": {
            "text/plain": [
              "96.61207089970833"
            ]
          },
          "metadata": {},
          "execution_count": 189
        }
      ]
    },
    {
      "cell_type": "code",
      "source": [
        "y_test_pred_lr=model_lr.predict(x_test_fe)"
      ],
      "metadata": {
        "id": "mupGN-mP1rhp"
      },
      "execution_count": 190,
      "outputs": []
    },
    {
      "cell_type": "code",
      "source": [
        "accuracy_score(y_test,y_test_pred_lr)*100"
      ],
      "metadata": {
        "colab": {
          "base_uri": "https://localhost:8080/"
        },
        "id": "uMJv-h5G10Iv",
        "outputId": "87bfe3e5-5b0c-40ff-9c6e-c2e9e095a2a7"
      },
      "execution_count": 191,
      "outputs": [
        {
          "output_type": "execute_result",
          "data": {
            "text/plain": [
              "96.23318385650225"
            ]
          },
          "metadata": {},
          "execution_count": 191
        }
      ]
    },
    {
      "cell_type": "markdown",
      "source": [
        "#**Naive Bayes Model**"
      ],
      "metadata": {
        "id": "3mA0yK-A2xXk"
      }
    },
    {
      "cell_type": "code",
      "source": [
        "model_nb=MultinomialNB()\n",
        "model_nb.fit(x_train_fe,y_train)"
      ],
      "metadata": {
        "colab": {
          "base_uri": "https://localhost:8080/",
          "height": 74
        },
        "id": "QNcFLufB2jWy",
        "outputId": "c64f10ea-0b82-4ada-b351-7982182e7e50"
      },
      "execution_count": 202,
      "outputs": [
        {
          "output_type": "execute_result",
          "data": {
            "text/plain": [
              "MultinomialNB()"
            ],
            "text/html": [
              "<style>#sk-container-id-10 {color: black;}#sk-container-id-10 pre{padding: 0;}#sk-container-id-10 div.sk-toggleable {background-color: white;}#sk-container-id-10 label.sk-toggleable__label {cursor: pointer;display: block;width: 100%;margin-bottom: 0;padding: 0.3em;box-sizing: border-box;text-align: center;}#sk-container-id-10 label.sk-toggleable__label-arrow:before {content: \"▸\";float: left;margin-right: 0.25em;color: #696969;}#sk-container-id-10 label.sk-toggleable__label-arrow:hover:before {color: black;}#sk-container-id-10 div.sk-estimator:hover label.sk-toggleable__label-arrow:before {color: black;}#sk-container-id-10 div.sk-toggleable__content {max-height: 0;max-width: 0;overflow: hidden;text-align: left;background-color: #f0f8ff;}#sk-container-id-10 div.sk-toggleable__content pre {margin: 0.2em;color: black;border-radius: 0.25em;background-color: #f0f8ff;}#sk-container-id-10 input.sk-toggleable__control:checked~div.sk-toggleable__content {max-height: 200px;max-width: 100%;overflow: auto;}#sk-container-id-10 input.sk-toggleable__control:checked~label.sk-toggleable__label-arrow:before {content: \"▾\";}#sk-container-id-10 div.sk-estimator input.sk-toggleable__control:checked~label.sk-toggleable__label {background-color: #d4ebff;}#sk-container-id-10 div.sk-label input.sk-toggleable__control:checked~label.sk-toggleable__label {background-color: #d4ebff;}#sk-container-id-10 input.sk-hidden--visually {border: 0;clip: rect(1px 1px 1px 1px);clip: rect(1px, 1px, 1px, 1px);height: 1px;margin: -1px;overflow: hidden;padding: 0;position: absolute;width: 1px;}#sk-container-id-10 div.sk-estimator {font-family: monospace;background-color: #f0f8ff;border: 1px dotted black;border-radius: 0.25em;box-sizing: border-box;margin-bottom: 0.5em;}#sk-container-id-10 div.sk-estimator:hover {background-color: #d4ebff;}#sk-container-id-10 div.sk-parallel-item::after {content: \"\";width: 100%;border-bottom: 1px solid gray;flex-grow: 1;}#sk-container-id-10 div.sk-label:hover label.sk-toggleable__label {background-color: #d4ebff;}#sk-container-id-10 div.sk-serial::before {content: \"\";position: absolute;border-left: 1px solid gray;box-sizing: border-box;top: 0;bottom: 0;left: 50%;z-index: 0;}#sk-container-id-10 div.sk-serial {display: flex;flex-direction: column;align-items: center;background-color: white;padding-right: 0.2em;padding-left: 0.2em;position: relative;}#sk-container-id-10 div.sk-item {position: relative;z-index: 1;}#sk-container-id-10 div.sk-parallel {display: flex;align-items: stretch;justify-content: center;background-color: white;position: relative;}#sk-container-id-10 div.sk-item::before, #sk-container-id-10 div.sk-parallel-item::before {content: \"\";position: absolute;border-left: 1px solid gray;box-sizing: border-box;top: 0;bottom: 0;left: 50%;z-index: -1;}#sk-container-id-10 div.sk-parallel-item {display: flex;flex-direction: column;z-index: 1;position: relative;background-color: white;}#sk-container-id-10 div.sk-parallel-item:first-child::after {align-self: flex-end;width: 50%;}#sk-container-id-10 div.sk-parallel-item:last-child::after {align-self: flex-start;width: 50%;}#sk-container-id-10 div.sk-parallel-item:only-child::after {width: 0;}#sk-container-id-10 div.sk-dashed-wrapped {border: 1px dashed gray;margin: 0 0.4em 0.5em 0.4em;box-sizing: border-box;padding-bottom: 0.4em;background-color: white;}#sk-container-id-10 div.sk-label label {font-family: monospace;font-weight: bold;display: inline-block;line-height: 1.2em;}#sk-container-id-10 div.sk-label-container {text-align: center;}#sk-container-id-10 div.sk-container {/* jupyter's `normalize.less` sets `[hidden] { display: none; }` but bootstrap.min.css set `[hidden] { display: none !important; }` so we also need the `!important` here to be able to override the default hidden behavior on the sphinx rendered scikit-learn.org. See: https://github.com/scikit-learn/scikit-learn/issues/21755 */display: inline-block !important;position: relative;}#sk-container-id-10 div.sk-text-repr-fallback {display: none;}</style><div id=\"sk-container-id-10\" class=\"sk-top-container\"><div class=\"sk-text-repr-fallback\"><pre>MultinomialNB()</pre><b>In a Jupyter environment, please rerun this cell to show the HTML representation or trust the notebook. <br />On GitHub, the HTML representation is unable to render, please try loading this page with nbviewer.org.</b></div><div class=\"sk-container\" hidden><div class=\"sk-item\"><div class=\"sk-estimator sk-toggleable\"><input class=\"sk-toggleable__control sk-hidden--visually\" id=\"sk-estimator-id-10\" type=\"checkbox\" checked><label for=\"sk-estimator-id-10\" class=\"sk-toggleable__label sk-toggleable__label-arrow\">MultinomialNB</label><div class=\"sk-toggleable__content\"><pre>MultinomialNB()</pre></div></div></div></div></div>"
            ]
          },
          "metadata": {},
          "execution_count": 202
        }
      ]
    },
    {
      "cell_type": "code",
      "source": [
        "y_train_pred_nb=model_nb.predict(x_train_fe)"
      ],
      "metadata": {
        "id": "Xq91UuRf3L9_"
      },
      "execution_count": 203,
      "outputs": []
    },
    {
      "cell_type": "code",
      "source": [
        "accuracy_score(y_train,y_train_pred_nb)*100"
      ],
      "metadata": {
        "colab": {
          "base_uri": "https://localhost:8080/"
        },
        "id": "YM2oGmYx3krP",
        "outputId": "331d3ce4-3f99-4815-e8f9-3195d508a06f"
      },
      "execution_count": 204,
      "outputs": [
        {
          "output_type": "execute_result",
          "data": {
            "text/plain": [
              "98.22750729190038"
            ]
          },
          "metadata": {},
          "execution_count": 204
        }
      ]
    },
    {
      "cell_type": "code",
      "source": [
        "y_test_pred_nb=model_nb.predict(x_test_fe)"
      ],
      "metadata": {
        "id": "D9t5TIlR3uWH"
      },
      "execution_count": 205,
      "outputs": []
    },
    {
      "cell_type": "code",
      "source": [
        "accuracy_score(y_test,y_test_pred_nb)*100"
      ],
      "metadata": {
        "colab": {
          "base_uri": "https://localhost:8080/"
        },
        "id": "YJFIjm64314H",
        "outputId": "5fd97aee-864b-49e5-f61c-7297af35e463"
      },
      "execution_count": 206,
      "outputs": [
        {
          "output_type": "execute_result",
          "data": {
            "text/plain": [
              "97.13004484304932"
            ]
          },
          "metadata": {},
          "execution_count": 206
        }
      ]
    },
    {
      "cell_type": "markdown",
      "source": [
        "#**predicting an input**"
      ],
      "metadata": {
        "id": "GzTq5f9D4EJT"
      }
    },
    {
      "cell_type": "code",
      "source": [
        "def predict_input(input_sms):\n",
        "  input_sms_fe=fe.transform([input_sms])\n",
        "  pred_lr=model_lr.predict(input_sms_fe)\n",
        "  pred_nb=model_nb.predict(input_sms_fe)\n",
        "  sp=[\"Not-Spam\",\"Spam\"]\n",
        "  print(f\"{sp[pred_lr[0]]}: predicted by Linear\")\n",
        "  print(f\"{sp[pred_nb[0]]}: predicted by NB\")"
      ],
      "metadata": {
        "id": "Q97gd26q4qFf"
      },
      "execution_count": 236,
      "outputs": []
    },
    {
      "cell_type": "code",
      "source": [
        "predict_input(\"I think I like you :)\")"
      ],
      "metadata": {
        "colab": {
          "base_uri": "https://localhost:8080/"
        },
        "id": "ccRHgZsB5PYs",
        "outputId": "493e98d6-3781-4fb4-e8c7-8d6d0c132812"
      },
      "execution_count": 237,
      "outputs": [
        {
          "output_type": "stream",
          "name": "stdout",
          "text": [
            "Not-Spam: predicted by Linear\n",
            "Not-Spam: predicted by NB\n"
          ]
        }
      ]
    },
    {
      "cell_type": "code",
      "source": [
        "predict_input(\"Free entry in 2 a wkly comp to win FA Cup final tkts 21st May 2005. Text FA to 87121 to receive entry question(std txt rate)T&C's\")"
      ],
      "metadata": {
        "colab": {
          "base_uri": "https://localhost:8080/"
        },
        "id": "dlDG_Wkc-HqD",
        "outputId": "645cbaf0-3aee-4fbb-c5ef-9406687a2c08"
      },
      "execution_count": 238,
      "outputs": [
        {
          "output_type": "stream",
          "name": "stdout",
          "text": [
            "Spam: predicted by Linear\n",
            "Spam: predicted by NB\n"
          ]
        }
      ]
    },
    {
      "cell_type": "code",
      "source": [],
      "metadata": {
        "id": "FD8egTPd-Pcb"
      },
      "execution_count": null,
      "outputs": []
    }
  ]
}